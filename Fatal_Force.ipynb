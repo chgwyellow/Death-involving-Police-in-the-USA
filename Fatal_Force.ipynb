{
  "cells": [
    {
      "cell_type": "markdown",
      "metadata": {
        "id": "0KrR-Qd_wXf-"
      },
      "source": [
        "# Introduction"
      ]
    },
    {
      "cell_type": "markdown",
      "metadata": {
        "id": "I6e2m4XsuRoL"
      },
      "source": [
        "Since Jan. 1, 2015, [The Washington Post](https://www.washingtonpost.com/) has been compiling a database of every fatal shooting in the US by a police officer in the line of duty. \n",
        "\n",
        "<center><img src=https://i.imgur.com/sX3K62b.png></center>\n",
        "\n",
        "While there are many challenges regarding data collection and reporting, The Washington Post has been tracking more than a dozen details about each killing. This includes the race, age and gender of the deceased, whether the person was armed, and whether the victim was experiencing a mental-health crisis. The Washington Post has gathered this supplemental information from law enforcement websites, local new reports, social media, and by monitoring independent databases such as \"Killed by police\" and \"Fatal Encounters\". The Post has also conducted additional reporting in many cases.\n",
        "\n",
        "There are 4 additional datasets: US census data on poverty rate, high school graduation rate, median household income, and racial demographics. [Source of census data](https://factfinder.census.gov/faces/nav/jsf/pages/community_facts.xhtml)."
      ]
    },
    {
      "cell_type": "markdown",
      "metadata": {
        "id": "jqXsMLNJxELp"
      },
      "source": [
        "## Import Statements"
      ]
    },
    {
      "cell_type": "code",
      "execution_count": 2,
      "metadata": {
        "id": "TPhEXC2FxGSr"
      },
      "outputs": [],
      "source": [
        "import numpy as np\n",
        "import pandas as pd\n",
        "import plotly.express as px\n",
        "import matplotlib.pyplot as plt\n",
        "import seaborn as sns\n",
        "from collections import Counter"
      ]
    },
    {
      "cell_type": "markdown",
      "metadata": {
        "id": "SwKGmmaLxS2s"
      },
      "source": [
        "## Notebook Presentation"
      ]
    },
    {
      "cell_type": "code",
      "execution_count": 3,
      "metadata": {
        "id": "ayQQqhKtxBxj"
      },
      "outputs": [],
      "source": [
        "pd.options.display.float_format = '{:,.2f}'.format"
      ]
    },
    {
      "cell_type": "markdown",
      "metadata": {
        "id": "nKxJMOiMyAUF"
      },
      "source": [
        "## Load the Data"
      ]
    },
    {
      "cell_type": "code",
      "execution_count": 4,
      "metadata": {
        "_cell_guid": "abb0685f-f844-43f8-84c0-4cd54361c7bf",
        "_uuid": "9c06ed7c41db79ae9d940f2d52aeff23621b3037",
        "id": "8KmGeg6ouRoP"
      },
      "outputs": [],
      "source": [
        "df_hh_income = pd.read_csv('Median_Household_Income_2015.csv', encoding=\"windows-1252\")\n",
        "df_pct_poverty = pd.read_csv('Pct_People_Below_Poverty_Level.csv', encoding=\"windows-1252\")\n",
        "df_pct_completed_hs = pd.read_csv('Pct_Over_25_Completed_High_School.csv', encoding=\"windows-1252\")\n",
        "df_share_race_city = pd.read_csv('Share_of_Race_By_City.csv', encoding=\"windows-1252\")\n",
        "df_fatalities = pd.read_csv('Deaths_by_Police_US.csv', encoding=\"windows-1252\")"
      ]
    },
    {
      "cell_type": "markdown",
      "metadata": {
        "id": "6RuA5SvUyEaB"
      },
      "source": [
        "# Preliminary Data Exploration\n",
        "\n",
        "* What is the shape of the DataFrames? \n",
        "* How many rows and columns do they have?\n",
        "* What are the column names?\n",
        "* Are there any NaN values or duplicates?"
      ]
    },
    {
      "cell_type": "code",
      "execution_count": 5,
      "metadata": {
        "id": "3U9RcS1WyrRJ"
      },
      "outputs": [
        {
          "name": "stdout",
          "output_type": "stream",
          "text": [
            "The shape of df_hh_income is: (29322, 3)\n",
            "The shape of df_pct_poverty is: (29329, 3)\n",
            "The shape of df_pct_completed_hs is: (29329, 3)\n",
            "The shape of df_share_race_city is: (29268, 7)\n",
            "The shape of df_fatalities is: (2535, 14)\n"
          ]
        }
      ],
      "source": [
        "print(f\"The shape of df_hh_income is: {df_hh_income.shape}\")\n",
        "print(f\"The shape of df_pct_poverty is: {df_pct_poverty.shape}\")\n",
        "print(f\"The shape of df_pct_completed_hs is: {df_pct_completed_hs.shape}\")\n",
        "print(f\"The shape of df_share_race_city is: {df_share_race_city.shape}\")\n",
        "print(f\"The shape of df_fatalities is: {df_fatalities.shape}\")"
      ]
    },
    {
      "cell_type": "code",
      "execution_count": 6,
      "metadata": {
        "id": "DmIARadGyrgs"
      },
      "outputs": [
        {
          "name": "stdout",
          "output_type": "stream",
          "text": [
            "The columns' name of df_hh_income are: Index(['Geographic Area', 'City', 'Median Income'], dtype='object')\n",
            "The columns' name of df_pct_poverty are: Index(['Geographic Area', 'City', 'poverty_rate'], dtype='object')\n",
            "The columns' name of df_pct_completed_hs are: Index(['Geographic Area', 'City', 'percent_completed_hs'], dtype='object')\n",
            "The columns' name of df_share_race_city are: Index(['Geographic area', 'City', 'share_white', 'share_black',\n",
            "       'share_native_american', 'share_asian', 'share_hispanic'],\n",
            "      dtype='object')\n",
            "The columns' name of  are: Index(['id', 'name', 'date', 'manner_of_death', 'armed', 'age', 'gender',\n",
            "       'race', 'city', 'state', 'signs_of_mental_illness', 'threat_level',\n",
            "       'flee', 'body_camera'],\n",
            "      dtype='object')\n"
          ]
        }
      ],
      "source": [
        "print(f\"The columns' name of df_hh_income are: {df_hh_income.columns}\")\n",
        "print(f\"The columns' name of df_pct_poverty are: {df_pct_poverty.columns}\")\n",
        "print(f\"The columns' name of df_pct_completed_hs are: {df_pct_completed_hs.columns}\")\n",
        "print(f\"The columns' name of df_share_race_city are: {df_share_race_city.columns}\")\n",
        "print(f\"The columns' name of  are: {df_fatalities.columns}\")"
      ]
    },
    {
      "cell_type": "code",
      "execution_count": 7,
      "metadata": {
        "id": "OSgTJoX7yrcS"
      },
      "outputs": [
        {
          "name": "stdout",
          "output_type": "stream",
          "text": [
            "Is there any NaN or Duplicated values in df_hh_income: NaN:True, Duplicated:False\n",
            "Is there any NaN or Duplicated values in df_pct_poverty: NaN:False, Duplicated:False\n",
            "Is there any NaN or Duplicated values in df_pct_completed_hs: NaN:False, Duplicated:False\n",
            "Is there any NaN or Duplicated values in df_share_race_city: NaN:False, Duplicated:False\n",
            "Is there any NaN or Duplicated values in df_fatalities: NaN:True, Duplicated:False\n"
          ]
        }
      ],
      "source": [
        "print(f\"Is there any NaN or Duplicated values in df_hh_income: NaN:{df_hh_income.isna().values.any()}, Duplicated:{df_hh_income.duplicated().values.any()}\")\n",
        "print(f\"Is there any NaN or Duplicated values in df_pct_poverty: NaN:{df_pct_poverty.isna().values.any()}, Duplicated:{df_pct_poverty.duplicated().values.any()}\")\n",
        "print(f\"Is there any NaN or Duplicated values in df_pct_completed_hs: NaN:{df_pct_completed_hs.isna().values.any()}, Duplicated:{df_pct_completed_hs.duplicated().values.any()}\")\n",
        "print(f\"Is there any NaN or Duplicated values in df_share_race_city: NaN:{df_share_race_city.isna().values.any()}, Duplicated:{df_share_race_city.duplicated().values.any()}\")\n",
        "print(f\"Is there any NaN or Duplicated values in df_fatalities: NaN:{df_fatalities.isna().values.any()}, Duplicated:{df_fatalities.duplicated().values.any()}\")"
      ]
    },
    {
      "cell_type": "markdown",
      "metadata": {
        "id": "p72TfMvayr2C"
      },
      "source": [
        "## Data Cleaning - Check for Missing Values and Duplicates\n",
        "\n",
        "Consider how to deal with the NaN values. Perhaps substituting 0 is appropriate. "
      ]
    },
    {
      "cell_type": "code",
      "execution_count": 8,
      "metadata": {
        "id": "WEZuPaXvyxxp"
      },
      "outputs": [
        {
          "data": {
            "text/plain": [
              "np.False_"
            ]
          },
          "execution_count": 8,
          "metadata": {},
          "output_type": "execute_result"
        }
      ],
      "source": [
        "df_hh_income[\"Median Income\"] = df_hh_income[\"Median Income\"].replace([\"(X)\", \"-\", \"N/A\", \"\"], np.nan) # change the illegal sign to np.nan\n",
        "df_hh_income = df_hh_income.fillna(0)\n",
        "df_hh_income.isna().values.any()"
      ]
    },
    {
      "cell_type": "code",
      "execution_count": 9,
      "metadata": {},
      "outputs": [
        {
          "data": {
            "text/plain": [
              "np.False_"
            ]
          },
          "execution_count": 9,
          "metadata": {},
          "output_type": "execute_result"
        }
      ],
      "source": [
        "df_fatalities[\"race\"] = df_fatalities[\"race\"].fillna(\"Missing\")\n",
        "df_fatalities[\"age\"] = df_fatalities[\"age\"].fillna(0)\n",
        "df_fatalities[\"flee\"] = df_fatalities[\"flee\"].fillna(\"Unknown\")\n",
        "df_fatalities[\"armed\"] = df_fatalities[\"armed\"].fillna(\"UNknown\")\n",
        "df_fatalities.isna().values.any()"
      ]
    },
    {
      "cell_type": "markdown",
      "metadata": {
        "_uuid": "52b308c936f5835c5cd186497fe3f96e96372483",
        "id": "n3DrcXVQuRoZ"
      },
      "source": [
        "# Chart the Poverty Rate in each US State\n",
        "\n",
        "Create a bar chart that ranks the poverty rate from highest to lowest by US state. Which state has the highest poverty rate? Which state has the lowest poverty rate?  Bar Plot"
      ]
    },
    {
      "cell_type": "code",
      "execution_count": 10,
      "metadata": {
        "id": "mGxEzMDqzqmn"
      },
      "outputs": [
        {
          "data": {
            "application/vnd.microsoft.datawrangler.viewer.v0+json": {
              "columns": [
                {
                  "name": "index",
                  "rawType": "int64",
                  "type": "integer"
                },
                {
                  "name": "Geographic Area",
                  "rawType": "object",
                  "type": "string"
                },
                {
                  "name": "poverty_rate",
                  "rawType": "float64",
                  "type": "float"
                }
              ],
              "ref": "2f25e28d-20cb-4bf5-9ac6-c5486a406414",
              "rows": [
                [
                  "25",
                  "MS",
                  "26.884254143646405"
                ],
                [
                  "3",
                  "AZ",
                  "25.268070953436805"
                ],
                [
                  "10",
                  "GA",
                  "23.663636363636364"
                ],
                [
                  "2",
                  "AR",
                  "22.963216266173752"
                ],
                [
                  "32",
                  "NM",
                  "22.507674943566595"
                ],
                [
                  "18",
                  "LA",
                  "22.291772151898737"
                ],
                [
                  "40",
                  "SC",
                  "22.105555555555554"
                ],
                [
                  "49",
                  "WV",
                  "21.08222222222222"
                ],
                [
                  "1",
                  "AL",
                  "20.611794871794874"
                ],
                [
                  "36",
                  "OK",
                  "20.545895020188425"
                ],
                [
                  "17",
                  "KY",
                  "20.080000000000002"
                ],
                [
                  "24",
                  "MO",
                  "19.930687318489838"
                ],
                [
                  "42",
                  "TN",
                  "19.88720930232558"
                ],
                [
                  "27",
                  "NC",
                  "19.720568335588634"
                ],
                [
                  "43",
                  "TX",
                  "19.496222095020034"
                ],
                [
                  "0",
                  "AK",
                  "18.678591549295774"
                ],
                [
                  "13",
                  "ID",
                  "18.07621145374449"
                ],
                [
                  "7",
                  "DC",
                  "18.0"
                ],
                [
                  "22",
                  "MI",
                  "17.900722543352604"
                ],
                [
                  "9",
                  "FL",
                  "17.508605664488016"
                ],
                [
                  "21",
                  "ME",
                  "16.89384615384615"
                ],
                [
                  "4",
                  "CA",
                  "16.888370565045992"
                ],
                [
                  "37",
                  "OR",
                  "16.43580901856764"
                ],
                [
                  "26",
                  "MT",
                  "16.423287671232877"
                ],
                [
                  "41",
                  "SD",
                  "15.745268542199488"
                ],
                [
                  "15",
                  "IN",
                  "15.499852941176472"
                ],
                [
                  "35",
                  "OH",
                  "14.826666666666668"
                ],
                [
                  "47",
                  "WA",
                  "14.825996810207336"
                ],
                [
                  "16",
                  "KS",
                  "14.71904761904762"
                ],
                [
                  "45",
                  "VA",
                  "14.5858347386172"
                ],
                [
                  "14",
                  "IL",
                  "13.849342105263158"
                ],
                [
                  "46",
                  "VT",
                  "13.785950413223139"
                ],
                [
                  "23",
                  "MN",
                  "13.745736434108526"
                ],
                [
                  "11",
                  "HI",
                  "13.400662251655628"
                ],
                [
                  "5",
                  "CO",
                  "13.187772925764195"
                ],
                [
                  "29",
                  "NE",
                  "12.91741379310345"
                ],
                [
                  "48",
                  "WI",
                  "12.85868725868726"
                ],
                [
                  "30",
                  "NH",
                  "12.659793814432993"
                ],
                [
                  "8",
                  "DE",
                  "12.555844155844156"
                ],
                [
                  "38",
                  "PA",
                  "12.48717366628831"
                ],
                [
                  "33",
                  "NV",
                  "12.370992366412214"
                ],
                [
                  "12",
                  "IA",
                  "12.23154761904762"
                ],
                [
                  "28",
                  "ND",
                  "12.131920199501247"
                ],
                [
                  "44",
                  "UT",
                  "11.724615384615385"
                ],
                [
                  "34",
                  "NY",
                  "11.638963210702341"
                ],
                [
                  "39",
                  "RI",
                  "10.369444444444444"
                ],
                [
                  "20",
                  "MD",
                  "10.272393822393823"
                ],
                [
                  "19",
                  "MA",
                  "9.546341463414633"
                ],
                [
                  "6",
                  "CT",
                  "9.137500000000001"
                ],
                [
                  "50",
                  "WY",
                  "9.063725490196079"
                ]
              ],
              "shape": {
                "columns": 2,
                "rows": 51
              }
            },
            "text/html": [
              "<div>\n",
              "<style scoped>\n",
              "    .dataframe tbody tr th:only-of-type {\n",
              "        vertical-align: middle;\n",
              "    }\n",
              "\n",
              "    .dataframe tbody tr th {\n",
              "        vertical-align: top;\n",
              "    }\n",
              "\n",
              "    .dataframe thead th {\n",
              "        text-align: right;\n",
              "    }\n",
              "</style>\n",
              "<table border=\"1\" class=\"dataframe\">\n",
              "  <thead>\n",
              "    <tr style=\"text-align: right;\">\n",
              "      <th></th>\n",
              "      <th>Geographic Area</th>\n",
              "      <th>poverty_rate</th>\n",
              "    </tr>\n",
              "  </thead>\n",
              "  <tbody>\n",
              "    <tr>\n",
              "      <th>25</th>\n",
              "      <td>MS</td>\n",
              "      <td>26.88</td>\n",
              "    </tr>\n",
              "    <tr>\n",
              "      <th>3</th>\n",
              "      <td>AZ</td>\n",
              "      <td>25.27</td>\n",
              "    </tr>\n",
              "    <tr>\n",
              "      <th>10</th>\n",
              "      <td>GA</td>\n",
              "      <td>23.66</td>\n",
              "    </tr>\n",
              "    <tr>\n",
              "      <th>2</th>\n",
              "      <td>AR</td>\n",
              "      <td>22.96</td>\n",
              "    </tr>\n",
              "    <tr>\n",
              "      <th>32</th>\n",
              "      <td>NM</td>\n",
              "      <td>22.51</td>\n",
              "    </tr>\n",
              "    <tr>\n",
              "      <th>18</th>\n",
              "      <td>LA</td>\n",
              "      <td>22.29</td>\n",
              "    </tr>\n",
              "    <tr>\n",
              "      <th>40</th>\n",
              "      <td>SC</td>\n",
              "      <td>22.11</td>\n",
              "    </tr>\n",
              "    <tr>\n",
              "      <th>49</th>\n",
              "      <td>WV</td>\n",
              "      <td>21.08</td>\n",
              "    </tr>\n",
              "    <tr>\n",
              "      <th>1</th>\n",
              "      <td>AL</td>\n",
              "      <td>20.61</td>\n",
              "    </tr>\n",
              "    <tr>\n",
              "      <th>36</th>\n",
              "      <td>OK</td>\n",
              "      <td>20.55</td>\n",
              "    </tr>\n",
              "    <tr>\n",
              "      <th>17</th>\n",
              "      <td>KY</td>\n",
              "      <td>20.08</td>\n",
              "    </tr>\n",
              "    <tr>\n",
              "      <th>24</th>\n",
              "      <td>MO</td>\n",
              "      <td>19.93</td>\n",
              "    </tr>\n",
              "    <tr>\n",
              "      <th>42</th>\n",
              "      <td>TN</td>\n",
              "      <td>19.89</td>\n",
              "    </tr>\n",
              "    <tr>\n",
              "      <th>27</th>\n",
              "      <td>NC</td>\n",
              "      <td>19.72</td>\n",
              "    </tr>\n",
              "    <tr>\n",
              "      <th>43</th>\n",
              "      <td>TX</td>\n",
              "      <td>19.50</td>\n",
              "    </tr>\n",
              "    <tr>\n",
              "      <th>0</th>\n",
              "      <td>AK</td>\n",
              "      <td>18.68</td>\n",
              "    </tr>\n",
              "    <tr>\n",
              "      <th>13</th>\n",
              "      <td>ID</td>\n",
              "      <td>18.08</td>\n",
              "    </tr>\n",
              "    <tr>\n",
              "      <th>7</th>\n",
              "      <td>DC</td>\n",
              "      <td>18.00</td>\n",
              "    </tr>\n",
              "    <tr>\n",
              "      <th>22</th>\n",
              "      <td>MI</td>\n",
              "      <td>17.90</td>\n",
              "    </tr>\n",
              "    <tr>\n",
              "      <th>9</th>\n",
              "      <td>FL</td>\n",
              "      <td>17.51</td>\n",
              "    </tr>\n",
              "    <tr>\n",
              "      <th>21</th>\n",
              "      <td>ME</td>\n",
              "      <td>16.89</td>\n",
              "    </tr>\n",
              "    <tr>\n",
              "      <th>4</th>\n",
              "      <td>CA</td>\n",
              "      <td>16.89</td>\n",
              "    </tr>\n",
              "    <tr>\n",
              "      <th>37</th>\n",
              "      <td>OR</td>\n",
              "      <td>16.44</td>\n",
              "    </tr>\n",
              "    <tr>\n",
              "      <th>26</th>\n",
              "      <td>MT</td>\n",
              "      <td>16.42</td>\n",
              "    </tr>\n",
              "    <tr>\n",
              "      <th>41</th>\n",
              "      <td>SD</td>\n",
              "      <td>15.75</td>\n",
              "    </tr>\n",
              "    <tr>\n",
              "      <th>15</th>\n",
              "      <td>IN</td>\n",
              "      <td>15.50</td>\n",
              "    </tr>\n",
              "    <tr>\n",
              "      <th>35</th>\n",
              "      <td>OH</td>\n",
              "      <td>14.83</td>\n",
              "    </tr>\n",
              "    <tr>\n",
              "      <th>47</th>\n",
              "      <td>WA</td>\n",
              "      <td>14.83</td>\n",
              "    </tr>\n",
              "    <tr>\n",
              "      <th>16</th>\n",
              "      <td>KS</td>\n",
              "      <td>14.72</td>\n",
              "    </tr>\n",
              "    <tr>\n",
              "      <th>45</th>\n",
              "      <td>VA</td>\n",
              "      <td>14.59</td>\n",
              "    </tr>\n",
              "    <tr>\n",
              "      <th>14</th>\n",
              "      <td>IL</td>\n",
              "      <td>13.85</td>\n",
              "    </tr>\n",
              "    <tr>\n",
              "      <th>46</th>\n",
              "      <td>VT</td>\n",
              "      <td>13.79</td>\n",
              "    </tr>\n",
              "    <tr>\n",
              "      <th>23</th>\n",
              "      <td>MN</td>\n",
              "      <td>13.75</td>\n",
              "    </tr>\n",
              "    <tr>\n",
              "      <th>11</th>\n",
              "      <td>HI</td>\n",
              "      <td>13.40</td>\n",
              "    </tr>\n",
              "    <tr>\n",
              "      <th>5</th>\n",
              "      <td>CO</td>\n",
              "      <td>13.19</td>\n",
              "    </tr>\n",
              "    <tr>\n",
              "      <th>29</th>\n",
              "      <td>NE</td>\n",
              "      <td>12.92</td>\n",
              "    </tr>\n",
              "    <tr>\n",
              "      <th>48</th>\n",
              "      <td>WI</td>\n",
              "      <td>12.86</td>\n",
              "    </tr>\n",
              "    <tr>\n",
              "      <th>30</th>\n",
              "      <td>NH</td>\n",
              "      <td>12.66</td>\n",
              "    </tr>\n",
              "    <tr>\n",
              "      <th>8</th>\n",
              "      <td>DE</td>\n",
              "      <td>12.56</td>\n",
              "    </tr>\n",
              "    <tr>\n",
              "      <th>38</th>\n",
              "      <td>PA</td>\n",
              "      <td>12.49</td>\n",
              "    </tr>\n",
              "    <tr>\n",
              "      <th>33</th>\n",
              "      <td>NV</td>\n",
              "      <td>12.37</td>\n",
              "    </tr>\n",
              "    <tr>\n",
              "      <th>12</th>\n",
              "      <td>IA</td>\n",
              "      <td>12.23</td>\n",
              "    </tr>\n",
              "    <tr>\n",
              "      <th>28</th>\n",
              "      <td>ND</td>\n",
              "      <td>12.13</td>\n",
              "    </tr>\n",
              "    <tr>\n",
              "      <th>44</th>\n",
              "      <td>UT</td>\n",
              "      <td>11.72</td>\n",
              "    </tr>\n",
              "    <tr>\n",
              "      <th>34</th>\n",
              "      <td>NY</td>\n",
              "      <td>11.64</td>\n",
              "    </tr>\n",
              "    <tr>\n",
              "      <th>39</th>\n",
              "      <td>RI</td>\n",
              "      <td>10.37</td>\n",
              "    </tr>\n",
              "    <tr>\n",
              "      <th>20</th>\n",
              "      <td>MD</td>\n",
              "      <td>10.27</td>\n",
              "    </tr>\n",
              "    <tr>\n",
              "      <th>19</th>\n",
              "      <td>MA</td>\n",
              "      <td>9.55</td>\n",
              "    </tr>\n",
              "    <tr>\n",
              "      <th>6</th>\n",
              "      <td>CT</td>\n",
              "      <td>9.14</td>\n",
              "    </tr>\n",
              "    <tr>\n",
              "      <th>50</th>\n",
              "      <td>WY</td>\n",
              "      <td>9.06</td>\n",
              "    </tr>\n",
              "    <tr>\n",
              "      <th>31</th>\n",
              "      <td>NJ</td>\n",
              "      <td>8.16</td>\n",
              "    </tr>\n",
              "  </tbody>\n",
              "</table>\n",
              "</div>"
            ],
            "text/plain": [
              "   Geographic Area  poverty_rate\n",
              "25              MS         26.88\n",
              "3               AZ         25.27\n",
              "10              GA         23.66\n",
              "2               AR         22.96\n",
              "32              NM         22.51\n",
              "18              LA         22.29\n",
              "40              SC         22.11\n",
              "49              WV         21.08\n",
              "1               AL         20.61\n",
              "36              OK         20.55\n",
              "17              KY         20.08\n",
              "24              MO         19.93\n",
              "42              TN         19.89\n",
              "27              NC         19.72\n",
              "43              TX         19.50\n",
              "0               AK         18.68\n",
              "13              ID         18.08\n",
              "7               DC         18.00\n",
              "22              MI         17.90\n",
              "9               FL         17.51\n",
              "21              ME         16.89\n",
              "4               CA         16.89\n",
              "37              OR         16.44\n",
              "26              MT         16.42\n",
              "41              SD         15.75\n",
              "15              IN         15.50\n",
              "35              OH         14.83\n",
              "47              WA         14.83\n",
              "16              KS         14.72\n",
              "45              VA         14.59\n",
              "14              IL         13.85\n",
              "46              VT         13.79\n",
              "23              MN         13.75\n",
              "11              HI         13.40\n",
              "5               CO         13.19\n",
              "29              NE         12.92\n",
              "48              WI         12.86\n",
              "30              NH         12.66\n",
              "8               DE         12.56\n",
              "38              PA         12.49\n",
              "33              NV         12.37\n",
              "12              IA         12.23\n",
              "28              ND         12.13\n",
              "44              UT         11.72\n",
              "34              NY         11.64\n",
              "39              RI         10.37\n",
              "20              MD         10.27\n",
              "19              MA          9.55\n",
              "6               CT          9.14\n",
              "50              WY          9.06\n",
              "31              NJ          8.16"
            ]
          },
          "execution_count": 10,
          "metadata": {},
          "output_type": "execute_result"
        }
      ],
      "source": [
        "df_pct_poverty[\"poverty_rate\"] = df_pct_poverty.poverty_rate.replace(\"-\", 0) # replace the \"-\" data to 0\n",
        "df_pct_poverty.poverty_rate = pd.to_numeric(df_pct_poverty.poverty_rate) # Turn the poverty_rate to numeric type\n",
        "df_poverty_rate = df_pct_poverty.groupby(\"Geographic Area\").agg({\"poverty_rate\": pd.Series.mean}).reset_index()\n",
        "df_poverty_rate = df_poverty_rate.sort_values(by=\"poverty_rate\", ascending=False)\n",
        "df_poverty_rate"
      ]
    },
    {
      "cell_type": "code",
      "execution_count": 11,
      "metadata": {
        "id": "B3AM6oJQ1D_P"
      },
      "outputs": [
        {
          "data": {
            "application/vnd.plotly.v1+json": {
              "config": {
                "plotlyServerURL": "https://plot.ly"
              },
              "data": [
                {
                  "hovertemplate": "Geographic Area=%{x}<br>poverty_rate=%{marker.color}<extra></extra>",
                  "legendgroup": "",
                  "marker": {
                    "color": {
                      "bdata": "VVDEel7iOkDEBEpMoEQ5QCpBnhLkqTdABjFaV5X2NkD/nS/89oE2QONJapSxSjZAsAVbsAUbNkDqcvuDDBU1QDE4tpaenDRAMMKqxr+LNEAVrkfhehQ0QD63K4ZB7jNAAjIaJiDjM0Dn4psqd7gzQOWpRWkIfzNAPJH/LLitMkDIaQWYghMyQAAAAAAAADJAKXiqwJXmMUBQiRf7M4IxQLNs/hnT5DBAAZrbQGzjMEDEDAoukW8wQMa+sJRcbDBAA/ie1pN9L0AhU4a57P8uQKgNdNpApy1AtOHMDemmLUADJ3ACJ3AtQHNx5ofyKy1ALnHq99yyK0BjJLIXaJIrQBLddyrRfStAjjRHmiPNKkCBdt7FI2AqQKiOvEK31SlAexs726W3KUCDL65+0FEpQPgL7pqXHClAhlyo0275KEC6nCG28r0oQGmN1miNdihATRRdC4tDKED9M6bJAHMnQJ+gmi8mRydA0id90ie9JEC4oP0zd4skQBehexG6FyNAZ2ZmZmZGIkChoKCgoCAiQFqoAMVjUiBA",
                      "dtype": "f8"
                    },
                    "coloraxis": "coloraxis",
                    "pattern": {
                      "shape": ""
                    }
                  },
                  "name": "",
                  "orientation": "v",
                  "showlegend": false,
                  "textposition": "auto",
                  "type": "bar",
                  "x": [
                    "MS",
                    "AZ",
                    "GA",
                    "AR",
                    "NM",
                    "LA",
                    "SC",
                    "WV",
                    "AL",
                    "OK",
                    "KY",
                    "MO",
                    "TN",
                    "NC",
                    "TX",
                    "AK",
                    "ID",
                    "DC",
                    "MI",
                    "FL",
                    "ME",
                    "CA",
                    "OR",
                    "MT",
                    "SD",
                    "IN",
                    "OH",
                    "WA",
                    "KS",
                    "VA",
                    "IL",
                    "VT",
                    "MN",
                    "HI",
                    "CO",
                    "NE",
                    "WI",
                    "NH",
                    "DE",
                    "PA",
                    "NV",
                    "IA",
                    "ND",
                    "UT",
                    "NY",
                    "RI",
                    "MD",
                    "MA",
                    "CT",
                    "WY",
                    "NJ"
                  ],
                  "xaxis": "x",
                  "y": {
                    "bdata": "VVDEel7iOkDEBEpMoEQ5QCpBnhLkqTdABjFaV5X2NkD/nS/89oE2QONJapSxSjZAsAVbsAUbNkDqcvuDDBU1QDE4tpaenDRAMMKqxr+LNEAVrkfhehQ0QD63K4ZB7jNAAjIaJiDjM0Dn4psqd7gzQOWpRWkIfzNAPJH/LLitMkDIaQWYghMyQAAAAAAAADJAKXiqwJXmMUBQiRf7M4IxQLNs/hnT5DBAAZrbQGzjMEDEDAoukW8wQMa+sJRcbDBAA/ie1pN9L0AhU4a57P8uQKgNdNpApy1AtOHMDemmLUADJ3ACJ3AtQHNx5ofyKy1ALnHq99yyK0BjJLIXaJIrQBLddyrRfStAjjRHmiPNKkCBdt7FI2AqQKiOvEK31SlAexs726W3KUCDL65+0FEpQPgL7pqXHClAhlyo0275KEC6nCG28r0oQGmN1miNdihATRRdC4tDKED9M6bJAHMnQJ+gmi8mRydA0id90ie9JEC4oP0zd4skQBehexG6FyNAZ2ZmZmZGIkChoKCgoCAiQFqoAMVjUiBA",
                    "dtype": "f8"
                  },
                  "yaxis": "y"
                }
              ],
              "layout": {
                "barmode": "relative",
                "coloraxis": {
                  "colorbar": {
                    "title": {
                      "text": "poverty_rate"
                    }
                  },
                  "colorscale": [
                    [
                      0,
                      "#0d0887"
                    ],
                    [
                      0.1111111111111111,
                      "#46039f"
                    ],
                    [
                      0.2222222222222222,
                      "#7201a8"
                    ],
                    [
                      0.3333333333333333,
                      "#9c179e"
                    ],
                    [
                      0.4444444444444444,
                      "#bd3786"
                    ],
                    [
                      0.5555555555555556,
                      "#d8576b"
                    ],
                    [
                      0.6666666666666666,
                      "#ed7953"
                    ],
                    [
                      0.7777777777777778,
                      "#fb9f3a"
                    ],
                    [
                      0.8888888888888888,
                      "#fdca26"
                    ],
                    [
                      1,
                      "#f0f921"
                    ]
                  ]
                },
                "legend": {
                  "tracegroupgap": 0
                },
                "template": {
                  "data": {
                    "bar": [
                      {
                        "error_x": {
                          "color": "#2a3f5f"
                        },
                        "error_y": {
                          "color": "#2a3f5f"
                        },
                        "marker": {
                          "line": {
                            "color": "#E5ECF6",
                            "width": 0.5
                          },
                          "pattern": {
                            "fillmode": "overlay",
                            "size": 10,
                            "solidity": 0.2
                          }
                        },
                        "type": "bar"
                      }
                    ],
                    "barpolar": [
                      {
                        "marker": {
                          "line": {
                            "color": "#E5ECF6",
                            "width": 0.5
                          },
                          "pattern": {
                            "fillmode": "overlay",
                            "size": 10,
                            "solidity": 0.2
                          }
                        },
                        "type": "barpolar"
                      }
                    ],
                    "carpet": [
                      {
                        "aaxis": {
                          "endlinecolor": "#2a3f5f",
                          "gridcolor": "white",
                          "linecolor": "white",
                          "minorgridcolor": "white",
                          "startlinecolor": "#2a3f5f"
                        },
                        "baxis": {
                          "endlinecolor": "#2a3f5f",
                          "gridcolor": "white",
                          "linecolor": "white",
                          "minorgridcolor": "white",
                          "startlinecolor": "#2a3f5f"
                        },
                        "type": "carpet"
                      }
                    ],
                    "choropleth": [
                      {
                        "colorbar": {
                          "outlinewidth": 0,
                          "ticks": ""
                        },
                        "type": "choropleth"
                      }
                    ],
                    "contour": [
                      {
                        "colorbar": {
                          "outlinewidth": 0,
                          "ticks": ""
                        },
                        "colorscale": [
                          [
                            0,
                            "#0d0887"
                          ],
                          [
                            0.1111111111111111,
                            "#46039f"
                          ],
                          [
                            0.2222222222222222,
                            "#7201a8"
                          ],
                          [
                            0.3333333333333333,
                            "#9c179e"
                          ],
                          [
                            0.4444444444444444,
                            "#bd3786"
                          ],
                          [
                            0.5555555555555556,
                            "#d8576b"
                          ],
                          [
                            0.6666666666666666,
                            "#ed7953"
                          ],
                          [
                            0.7777777777777778,
                            "#fb9f3a"
                          ],
                          [
                            0.8888888888888888,
                            "#fdca26"
                          ],
                          [
                            1,
                            "#f0f921"
                          ]
                        ],
                        "type": "contour"
                      }
                    ],
                    "contourcarpet": [
                      {
                        "colorbar": {
                          "outlinewidth": 0,
                          "ticks": ""
                        },
                        "type": "contourcarpet"
                      }
                    ],
                    "heatmap": [
                      {
                        "colorbar": {
                          "outlinewidth": 0,
                          "ticks": ""
                        },
                        "colorscale": [
                          [
                            0,
                            "#0d0887"
                          ],
                          [
                            0.1111111111111111,
                            "#46039f"
                          ],
                          [
                            0.2222222222222222,
                            "#7201a8"
                          ],
                          [
                            0.3333333333333333,
                            "#9c179e"
                          ],
                          [
                            0.4444444444444444,
                            "#bd3786"
                          ],
                          [
                            0.5555555555555556,
                            "#d8576b"
                          ],
                          [
                            0.6666666666666666,
                            "#ed7953"
                          ],
                          [
                            0.7777777777777778,
                            "#fb9f3a"
                          ],
                          [
                            0.8888888888888888,
                            "#fdca26"
                          ],
                          [
                            1,
                            "#f0f921"
                          ]
                        ],
                        "type": "heatmap"
                      }
                    ],
                    "histogram": [
                      {
                        "marker": {
                          "pattern": {
                            "fillmode": "overlay",
                            "size": 10,
                            "solidity": 0.2
                          }
                        },
                        "type": "histogram"
                      }
                    ],
                    "histogram2d": [
                      {
                        "colorbar": {
                          "outlinewidth": 0,
                          "ticks": ""
                        },
                        "colorscale": [
                          [
                            0,
                            "#0d0887"
                          ],
                          [
                            0.1111111111111111,
                            "#46039f"
                          ],
                          [
                            0.2222222222222222,
                            "#7201a8"
                          ],
                          [
                            0.3333333333333333,
                            "#9c179e"
                          ],
                          [
                            0.4444444444444444,
                            "#bd3786"
                          ],
                          [
                            0.5555555555555556,
                            "#d8576b"
                          ],
                          [
                            0.6666666666666666,
                            "#ed7953"
                          ],
                          [
                            0.7777777777777778,
                            "#fb9f3a"
                          ],
                          [
                            0.8888888888888888,
                            "#fdca26"
                          ],
                          [
                            1,
                            "#f0f921"
                          ]
                        ],
                        "type": "histogram2d"
                      }
                    ],
                    "histogram2dcontour": [
                      {
                        "colorbar": {
                          "outlinewidth": 0,
                          "ticks": ""
                        },
                        "colorscale": [
                          [
                            0,
                            "#0d0887"
                          ],
                          [
                            0.1111111111111111,
                            "#46039f"
                          ],
                          [
                            0.2222222222222222,
                            "#7201a8"
                          ],
                          [
                            0.3333333333333333,
                            "#9c179e"
                          ],
                          [
                            0.4444444444444444,
                            "#bd3786"
                          ],
                          [
                            0.5555555555555556,
                            "#d8576b"
                          ],
                          [
                            0.6666666666666666,
                            "#ed7953"
                          ],
                          [
                            0.7777777777777778,
                            "#fb9f3a"
                          ],
                          [
                            0.8888888888888888,
                            "#fdca26"
                          ],
                          [
                            1,
                            "#f0f921"
                          ]
                        ],
                        "type": "histogram2dcontour"
                      }
                    ],
                    "mesh3d": [
                      {
                        "colorbar": {
                          "outlinewidth": 0,
                          "ticks": ""
                        },
                        "type": "mesh3d"
                      }
                    ],
                    "parcoords": [
                      {
                        "line": {
                          "colorbar": {
                            "outlinewidth": 0,
                            "ticks": ""
                          }
                        },
                        "type": "parcoords"
                      }
                    ],
                    "pie": [
                      {
                        "automargin": true,
                        "type": "pie"
                      }
                    ],
                    "scatter": [
                      {
                        "fillpattern": {
                          "fillmode": "overlay",
                          "size": 10,
                          "solidity": 0.2
                        },
                        "type": "scatter"
                      }
                    ],
                    "scatter3d": [
                      {
                        "line": {
                          "colorbar": {
                            "outlinewidth": 0,
                            "ticks": ""
                          }
                        },
                        "marker": {
                          "colorbar": {
                            "outlinewidth": 0,
                            "ticks": ""
                          }
                        },
                        "type": "scatter3d"
                      }
                    ],
                    "scattercarpet": [
                      {
                        "marker": {
                          "colorbar": {
                            "outlinewidth": 0,
                            "ticks": ""
                          }
                        },
                        "type": "scattercarpet"
                      }
                    ],
                    "scattergeo": [
                      {
                        "marker": {
                          "colorbar": {
                            "outlinewidth": 0,
                            "ticks": ""
                          }
                        },
                        "type": "scattergeo"
                      }
                    ],
                    "scattergl": [
                      {
                        "marker": {
                          "colorbar": {
                            "outlinewidth": 0,
                            "ticks": ""
                          }
                        },
                        "type": "scattergl"
                      }
                    ],
                    "scattermap": [
                      {
                        "marker": {
                          "colorbar": {
                            "outlinewidth": 0,
                            "ticks": ""
                          }
                        },
                        "type": "scattermap"
                      }
                    ],
                    "scattermapbox": [
                      {
                        "marker": {
                          "colorbar": {
                            "outlinewidth": 0,
                            "ticks": ""
                          }
                        },
                        "type": "scattermapbox"
                      }
                    ],
                    "scatterpolar": [
                      {
                        "marker": {
                          "colorbar": {
                            "outlinewidth": 0,
                            "ticks": ""
                          }
                        },
                        "type": "scatterpolar"
                      }
                    ],
                    "scatterpolargl": [
                      {
                        "marker": {
                          "colorbar": {
                            "outlinewidth": 0,
                            "ticks": ""
                          }
                        },
                        "type": "scatterpolargl"
                      }
                    ],
                    "scatterternary": [
                      {
                        "marker": {
                          "colorbar": {
                            "outlinewidth": 0,
                            "ticks": ""
                          }
                        },
                        "type": "scatterternary"
                      }
                    ],
                    "surface": [
                      {
                        "colorbar": {
                          "outlinewidth": 0,
                          "ticks": ""
                        },
                        "colorscale": [
                          [
                            0,
                            "#0d0887"
                          ],
                          [
                            0.1111111111111111,
                            "#46039f"
                          ],
                          [
                            0.2222222222222222,
                            "#7201a8"
                          ],
                          [
                            0.3333333333333333,
                            "#9c179e"
                          ],
                          [
                            0.4444444444444444,
                            "#bd3786"
                          ],
                          [
                            0.5555555555555556,
                            "#d8576b"
                          ],
                          [
                            0.6666666666666666,
                            "#ed7953"
                          ],
                          [
                            0.7777777777777778,
                            "#fb9f3a"
                          ],
                          [
                            0.8888888888888888,
                            "#fdca26"
                          ],
                          [
                            1,
                            "#f0f921"
                          ]
                        ],
                        "type": "surface"
                      }
                    ],
                    "table": [
                      {
                        "cells": {
                          "fill": {
                            "color": "#EBF0F8"
                          },
                          "line": {
                            "color": "white"
                          }
                        },
                        "header": {
                          "fill": {
                            "color": "#C8D4E3"
                          },
                          "line": {
                            "color": "white"
                          }
                        },
                        "type": "table"
                      }
                    ]
                  },
                  "layout": {
                    "annotationdefaults": {
                      "arrowcolor": "#2a3f5f",
                      "arrowhead": 0,
                      "arrowwidth": 1
                    },
                    "autotypenumbers": "strict",
                    "coloraxis": {
                      "colorbar": {
                        "outlinewidth": 0,
                        "ticks": ""
                      }
                    },
                    "colorscale": {
                      "diverging": [
                        [
                          0,
                          "#8e0152"
                        ],
                        [
                          0.1,
                          "#c51b7d"
                        ],
                        [
                          0.2,
                          "#de77ae"
                        ],
                        [
                          0.3,
                          "#f1b6da"
                        ],
                        [
                          0.4,
                          "#fde0ef"
                        ],
                        [
                          0.5,
                          "#f7f7f7"
                        ],
                        [
                          0.6,
                          "#e6f5d0"
                        ],
                        [
                          0.7,
                          "#b8e186"
                        ],
                        [
                          0.8,
                          "#7fbc41"
                        ],
                        [
                          0.9,
                          "#4d9221"
                        ],
                        [
                          1,
                          "#276419"
                        ]
                      ],
                      "sequential": [
                        [
                          0,
                          "#0d0887"
                        ],
                        [
                          0.1111111111111111,
                          "#46039f"
                        ],
                        [
                          0.2222222222222222,
                          "#7201a8"
                        ],
                        [
                          0.3333333333333333,
                          "#9c179e"
                        ],
                        [
                          0.4444444444444444,
                          "#bd3786"
                        ],
                        [
                          0.5555555555555556,
                          "#d8576b"
                        ],
                        [
                          0.6666666666666666,
                          "#ed7953"
                        ],
                        [
                          0.7777777777777778,
                          "#fb9f3a"
                        ],
                        [
                          0.8888888888888888,
                          "#fdca26"
                        ],
                        [
                          1,
                          "#f0f921"
                        ]
                      ],
                      "sequentialminus": [
                        [
                          0,
                          "#0d0887"
                        ],
                        [
                          0.1111111111111111,
                          "#46039f"
                        ],
                        [
                          0.2222222222222222,
                          "#7201a8"
                        ],
                        [
                          0.3333333333333333,
                          "#9c179e"
                        ],
                        [
                          0.4444444444444444,
                          "#bd3786"
                        ],
                        [
                          0.5555555555555556,
                          "#d8576b"
                        ],
                        [
                          0.6666666666666666,
                          "#ed7953"
                        ],
                        [
                          0.7777777777777778,
                          "#fb9f3a"
                        ],
                        [
                          0.8888888888888888,
                          "#fdca26"
                        ],
                        [
                          1,
                          "#f0f921"
                        ]
                      ]
                    },
                    "colorway": [
                      "#636efa",
                      "#EF553B",
                      "#00cc96",
                      "#ab63fa",
                      "#FFA15A",
                      "#19d3f3",
                      "#FF6692",
                      "#B6E880",
                      "#FF97FF",
                      "#FECB52"
                    ],
                    "font": {
                      "color": "#2a3f5f"
                    },
                    "geo": {
                      "bgcolor": "white",
                      "lakecolor": "white",
                      "landcolor": "#E5ECF6",
                      "showlakes": true,
                      "showland": true,
                      "subunitcolor": "white"
                    },
                    "hoverlabel": {
                      "align": "left"
                    },
                    "hovermode": "closest",
                    "mapbox": {
                      "style": "light"
                    },
                    "paper_bgcolor": "white",
                    "plot_bgcolor": "#E5ECF6",
                    "polar": {
                      "angularaxis": {
                        "gridcolor": "white",
                        "linecolor": "white",
                        "ticks": ""
                      },
                      "bgcolor": "#E5ECF6",
                      "radialaxis": {
                        "gridcolor": "white",
                        "linecolor": "white",
                        "ticks": ""
                      }
                    },
                    "scene": {
                      "xaxis": {
                        "backgroundcolor": "#E5ECF6",
                        "gridcolor": "white",
                        "gridwidth": 2,
                        "linecolor": "white",
                        "showbackground": true,
                        "ticks": "",
                        "zerolinecolor": "white"
                      },
                      "yaxis": {
                        "backgroundcolor": "#E5ECF6",
                        "gridcolor": "white",
                        "gridwidth": 2,
                        "linecolor": "white",
                        "showbackground": true,
                        "ticks": "",
                        "zerolinecolor": "white"
                      },
                      "zaxis": {
                        "backgroundcolor": "#E5ECF6",
                        "gridcolor": "white",
                        "gridwidth": 2,
                        "linecolor": "white",
                        "showbackground": true,
                        "ticks": "",
                        "zerolinecolor": "white"
                      }
                    },
                    "shapedefaults": {
                      "line": {
                        "color": "#2a3f5f"
                      }
                    },
                    "ternary": {
                      "aaxis": {
                        "gridcolor": "white",
                        "linecolor": "white",
                        "ticks": ""
                      },
                      "baxis": {
                        "gridcolor": "white",
                        "linecolor": "white",
                        "ticks": ""
                      },
                      "bgcolor": "#E5ECF6",
                      "caxis": {
                        "gridcolor": "white",
                        "linecolor": "white",
                        "ticks": ""
                      }
                    },
                    "title": {
                      "x": 0.05
                    },
                    "xaxis": {
                      "automargin": true,
                      "gridcolor": "white",
                      "linecolor": "white",
                      "ticks": "",
                      "title": {
                        "standoff": 15
                      },
                      "zerolinecolor": "white",
                      "zerolinewidth": 2
                    },
                    "yaxis": {
                      "automargin": true,
                      "gridcolor": "white",
                      "linecolor": "white",
                      "ticks": "",
                      "title": {
                        "standoff": 15
                      },
                      "zerolinecolor": "white",
                      "zerolinewidth": 2
                    }
                  }
                },
                "title": {
                  "text": "The Poverty Rate in Each US State"
                },
                "xaxis": {
                  "anchor": "y",
                  "domain": [
                    0,
                    1
                  ],
                  "title": {
                    "text": "States"
                  }
                },
                "yaxis": {
                  "anchor": "x",
                  "domain": [
                    0,
                    1
                  ],
                  "title": {
                    "text": "Poverty Rate"
                  }
                }
              }
            }
          },
          "metadata": {},
          "output_type": "display_data"
        }
      ],
      "source": [
        "# Matplotlib and Plotly can not be used at the same time.\n",
        "\n",
        "fig = px.bar(\n",
        "    data_frame=df_poverty_rate,\n",
        "    x=\"Geographic Area\",\n",
        "    y=\"poverty_rate\",\n",
        "    color=\"poverty_rate\",\n",
        "    title=\"The Poverty Rate in Each US State\"\n",
        ")\n",
        "\n",
        "fig.update_layout(\n",
        "    xaxis_title=\"States\",\n",
        "    yaxis_title=\"Poverty Rate\"\n",
        ")\n",
        "\n",
        "fig.show()"
      ]
    },
    {
      "cell_type": "markdown",
      "metadata": {
        "id": "GhUibVz5z4sn"
      },
      "source": [
        "# Chart the High School Graduation Rate by US State\n",
        "\n",
        "Show the High School Graduation Rate in ascending order of US States. Which state has the lowest high school graduation rate? Which state has the highest?"
      ]
    },
    {
      "cell_type": "code",
      "execution_count": 12,
      "metadata": {},
      "outputs": [
        {
          "data": {
            "application/vnd.microsoft.datawrangler.viewer.v0+json": {
              "columns": [
                {
                  "name": "index",
                  "rawType": "int64",
                  "type": "integer"
                },
                {
                  "name": "Geographic Area",
                  "rawType": "object",
                  "type": "string"
                },
                {
                  "name": "percent_completed_hs",
                  "rawType": "float64",
                  "type": "float"
                }
              ],
              "ref": "c70c8843-018f-4718-8b90-38a03812aa0b",
              "rows": [
                [
                  "19",
                  "MA",
                  "92.02845528455285"
                ],
                [
                  "11",
                  "HI",
                  "91.66556291390728"
                ],
                [
                  "6",
                  "CT",
                  "91.59166666666667"
                ],
                [
                  "21",
                  "ME",
                  "91.43076923076924"
                ],
                [
                  "30",
                  "NH",
                  "90.71134020618557"
                ],
                [
                  "34",
                  "NY",
                  "90.53795986622073"
                ],
                [
                  "31",
                  "NJ",
                  "90.52055045871559"
                ],
                [
                  "48",
                  "WI",
                  "90.26396396396397"
                ],
                [
                  "26",
                  "MT",
                  "89.99260273972604"
                ],
                [
                  "46",
                  "VT",
                  "89.97685950413224"
                ],
                [
                  "12",
                  "IA",
                  "89.66527777777779"
                ],
                [
                  "44",
                  "UT",
                  "89.64461538461538"
                ],
                [
                  "29",
                  "NE",
                  "89.52241379310345"
                ],
                [
                  "23",
                  "MN",
                  "89.46555924695461"
                ],
                [
                  "7",
                  "DC",
                  "89.3"
                ],
                [
                  "22",
                  "MI",
                  "89.20765895953758"
                ],
                [
                  "38",
                  "PA",
                  "88.9728717366629"
                ],
                [
                  "5",
                  "CO",
                  "88.92620087336246"
                ],
                [
                  "39",
                  "RI",
                  "88.82499999999999"
                ],
                [
                  "8",
                  "DE",
                  "88.51948051948052"
                ],
                [
                  "14",
                  "IL",
                  "88.28940058479533"
                ],
                [
                  "35",
                  "OH",
                  "88.19917695473251"
                ],
                [
                  "20",
                  "MD",
                  "88.08108108108108"
                ],
                [
                  "16",
                  "KS",
                  "87.96785714285714"
                ],
                [
                  "37",
                  "OR",
                  "87.60185676392571"
                ],
                [
                  "28",
                  "ND",
                  "87.59625935162096"
                ],
                [
                  "47",
                  "WA",
                  "87.07224880382776"
                ],
                [
                  "33",
                  "NV",
                  "87.04580152671755"
                ],
                [
                  "15",
                  "IN",
                  "86.31926470588235"
                ],
                [
                  "41",
                  "SD",
                  "86.18286445012788"
                ],
                [
                  "9",
                  "FL",
                  "85.45762527233116"
                ],
                [
                  "45",
                  "VA",
                  "84.88026981450253"
                ],
                [
                  "13",
                  "ID",
                  "84.41762114537444"
                ],
                [
                  "50",
                  "WY",
                  "83.97401960784315"
                ],
                [
                  "27",
                  "NC",
                  "83.13680649526388"
                ],
                [
                  "24",
                  "MO",
                  "82.79457889641819"
                ],
                [
                  "36",
                  "OK",
                  "82.46339165545086"
                ],
                [
                  "17",
                  "KY",
                  "82.2175925925926"
                ],
                [
                  "49",
                  "WV",
                  "82.14172839506173"
                ],
                [
                  "42",
                  "TN",
                  "81.63116279069767"
                ],
                [
                  "4",
                  "CA",
                  "80.82463863337713"
                ],
                [
                  "40",
                  "SC",
                  "80.64570707070708"
                ],
                [
                  "1",
                  "AL",
                  "80.1634188034188"
                ],
                [
                  "0",
                  "AK",
                  "80.09802816901409"
                ],
                [
                  "2",
                  "AR",
                  "79.94953789279113"
                ],
                [
                  "3",
                  "AZ",
                  "79.21818181818182"
                ],
                [
                  "18",
                  "LA",
                  "79.12236286919831"
                ],
                [
                  "32",
                  "NM",
                  "78.97178329571106"
                ],
                [
                  "10",
                  "GA",
                  "78.63444976076555"
                ],
                [
                  "25",
                  "MS",
                  "78.4707182320442"
                ]
              ],
              "shape": {
                "columns": 2,
                "rows": 51
              }
            },
            "text/html": [
              "<div>\n",
              "<style scoped>\n",
              "    .dataframe tbody tr th:only-of-type {\n",
              "        vertical-align: middle;\n",
              "    }\n",
              "\n",
              "    .dataframe tbody tr th {\n",
              "        vertical-align: top;\n",
              "    }\n",
              "\n",
              "    .dataframe thead th {\n",
              "        text-align: right;\n",
              "    }\n",
              "</style>\n",
              "<table border=\"1\" class=\"dataframe\">\n",
              "  <thead>\n",
              "    <tr style=\"text-align: right;\">\n",
              "      <th></th>\n",
              "      <th>Geographic Area</th>\n",
              "      <th>percent_completed_hs</th>\n",
              "    </tr>\n",
              "  </thead>\n",
              "  <tbody>\n",
              "    <tr>\n",
              "      <th>19</th>\n",
              "      <td>MA</td>\n",
              "      <td>92.03</td>\n",
              "    </tr>\n",
              "    <tr>\n",
              "      <th>11</th>\n",
              "      <td>HI</td>\n",
              "      <td>91.67</td>\n",
              "    </tr>\n",
              "    <tr>\n",
              "      <th>6</th>\n",
              "      <td>CT</td>\n",
              "      <td>91.59</td>\n",
              "    </tr>\n",
              "    <tr>\n",
              "      <th>21</th>\n",
              "      <td>ME</td>\n",
              "      <td>91.43</td>\n",
              "    </tr>\n",
              "    <tr>\n",
              "      <th>30</th>\n",
              "      <td>NH</td>\n",
              "      <td>90.71</td>\n",
              "    </tr>\n",
              "    <tr>\n",
              "      <th>34</th>\n",
              "      <td>NY</td>\n",
              "      <td>90.54</td>\n",
              "    </tr>\n",
              "    <tr>\n",
              "      <th>31</th>\n",
              "      <td>NJ</td>\n",
              "      <td>90.52</td>\n",
              "    </tr>\n",
              "    <tr>\n",
              "      <th>48</th>\n",
              "      <td>WI</td>\n",
              "      <td>90.26</td>\n",
              "    </tr>\n",
              "    <tr>\n",
              "      <th>26</th>\n",
              "      <td>MT</td>\n",
              "      <td>89.99</td>\n",
              "    </tr>\n",
              "    <tr>\n",
              "      <th>46</th>\n",
              "      <td>VT</td>\n",
              "      <td>89.98</td>\n",
              "    </tr>\n",
              "    <tr>\n",
              "      <th>12</th>\n",
              "      <td>IA</td>\n",
              "      <td>89.67</td>\n",
              "    </tr>\n",
              "    <tr>\n",
              "      <th>44</th>\n",
              "      <td>UT</td>\n",
              "      <td>89.64</td>\n",
              "    </tr>\n",
              "    <tr>\n",
              "      <th>29</th>\n",
              "      <td>NE</td>\n",
              "      <td>89.52</td>\n",
              "    </tr>\n",
              "    <tr>\n",
              "      <th>23</th>\n",
              "      <td>MN</td>\n",
              "      <td>89.47</td>\n",
              "    </tr>\n",
              "    <tr>\n",
              "      <th>7</th>\n",
              "      <td>DC</td>\n",
              "      <td>89.30</td>\n",
              "    </tr>\n",
              "    <tr>\n",
              "      <th>22</th>\n",
              "      <td>MI</td>\n",
              "      <td>89.21</td>\n",
              "    </tr>\n",
              "    <tr>\n",
              "      <th>38</th>\n",
              "      <td>PA</td>\n",
              "      <td>88.97</td>\n",
              "    </tr>\n",
              "    <tr>\n",
              "      <th>5</th>\n",
              "      <td>CO</td>\n",
              "      <td>88.93</td>\n",
              "    </tr>\n",
              "    <tr>\n",
              "      <th>39</th>\n",
              "      <td>RI</td>\n",
              "      <td>88.82</td>\n",
              "    </tr>\n",
              "    <tr>\n",
              "      <th>8</th>\n",
              "      <td>DE</td>\n",
              "      <td>88.52</td>\n",
              "    </tr>\n",
              "    <tr>\n",
              "      <th>14</th>\n",
              "      <td>IL</td>\n",
              "      <td>88.29</td>\n",
              "    </tr>\n",
              "    <tr>\n",
              "      <th>35</th>\n",
              "      <td>OH</td>\n",
              "      <td>88.20</td>\n",
              "    </tr>\n",
              "    <tr>\n",
              "      <th>20</th>\n",
              "      <td>MD</td>\n",
              "      <td>88.08</td>\n",
              "    </tr>\n",
              "    <tr>\n",
              "      <th>16</th>\n",
              "      <td>KS</td>\n",
              "      <td>87.97</td>\n",
              "    </tr>\n",
              "    <tr>\n",
              "      <th>37</th>\n",
              "      <td>OR</td>\n",
              "      <td>87.60</td>\n",
              "    </tr>\n",
              "    <tr>\n",
              "      <th>28</th>\n",
              "      <td>ND</td>\n",
              "      <td>87.60</td>\n",
              "    </tr>\n",
              "    <tr>\n",
              "      <th>47</th>\n",
              "      <td>WA</td>\n",
              "      <td>87.07</td>\n",
              "    </tr>\n",
              "    <tr>\n",
              "      <th>33</th>\n",
              "      <td>NV</td>\n",
              "      <td>87.05</td>\n",
              "    </tr>\n",
              "    <tr>\n",
              "      <th>15</th>\n",
              "      <td>IN</td>\n",
              "      <td>86.32</td>\n",
              "    </tr>\n",
              "    <tr>\n",
              "      <th>41</th>\n",
              "      <td>SD</td>\n",
              "      <td>86.18</td>\n",
              "    </tr>\n",
              "    <tr>\n",
              "      <th>9</th>\n",
              "      <td>FL</td>\n",
              "      <td>85.46</td>\n",
              "    </tr>\n",
              "    <tr>\n",
              "      <th>45</th>\n",
              "      <td>VA</td>\n",
              "      <td>84.88</td>\n",
              "    </tr>\n",
              "    <tr>\n",
              "      <th>13</th>\n",
              "      <td>ID</td>\n",
              "      <td>84.42</td>\n",
              "    </tr>\n",
              "    <tr>\n",
              "      <th>50</th>\n",
              "      <td>WY</td>\n",
              "      <td>83.97</td>\n",
              "    </tr>\n",
              "    <tr>\n",
              "      <th>27</th>\n",
              "      <td>NC</td>\n",
              "      <td>83.14</td>\n",
              "    </tr>\n",
              "    <tr>\n",
              "      <th>24</th>\n",
              "      <td>MO</td>\n",
              "      <td>82.79</td>\n",
              "    </tr>\n",
              "    <tr>\n",
              "      <th>36</th>\n",
              "      <td>OK</td>\n",
              "      <td>82.46</td>\n",
              "    </tr>\n",
              "    <tr>\n",
              "      <th>17</th>\n",
              "      <td>KY</td>\n",
              "      <td>82.22</td>\n",
              "    </tr>\n",
              "    <tr>\n",
              "      <th>49</th>\n",
              "      <td>WV</td>\n",
              "      <td>82.14</td>\n",
              "    </tr>\n",
              "    <tr>\n",
              "      <th>42</th>\n",
              "      <td>TN</td>\n",
              "      <td>81.63</td>\n",
              "    </tr>\n",
              "    <tr>\n",
              "      <th>4</th>\n",
              "      <td>CA</td>\n",
              "      <td>80.82</td>\n",
              "    </tr>\n",
              "    <tr>\n",
              "      <th>40</th>\n",
              "      <td>SC</td>\n",
              "      <td>80.65</td>\n",
              "    </tr>\n",
              "    <tr>\n",
              "      <th>1</th>\n",
              "      <td>AL</td>\n",
              "      <td>80.16</td>\n",
              "    </tr>\n",
              "    <tr>\n",
              "      <th>0</th>\n",
              "      <td>AK</td>\n",
              "      <td>80.10</td>\n",
              "    </tr>\n",
              "    <tr>\n",
              "      <th>2</th>\n",
              "      <td>AR</td>\n",
              "      <td>79.95</td>\n",
              "    </tr>\n",
              "    <tr>\n",
              "      <th>3</th>\n",
              "      <td>AZ</td>\n",
              "      <td>79.22</td>\n",
              "    </tr>\n",
              "    <tr>\n",
              "      <th>18</th>\n",
              "      <td>LA</td>\n",
              "      <td>79.12</td>\n",
              "    </tr>\n",
              "    <tr>\n",
              "      <th>32</th>\n",
              "      <td>NM</td>\n",
              "      <td>78.97</td>\n",
              "    </tr>\n",
              "    <tr>\n",
              "      <th>10</th>\n",
              "      <td>GA</td>\n",
              "      <td>78.63</td>\n",
              "    </tr>\n",
              "    <tr>\n",
              "      <th>25</th>\n",
              "      <td>MS</td>\n",
              "      <td>78.47</td>\n",
              "    </tr>\n",
              "    <tr>\n",
              "      <th>43</th>\n",
              "      <td>TX</td>\n",
              "      <td>74.09</td>\n",
              "    </tr>\n",
              "  </tbody>\n",
              "</table>\n",
              "</div>"
            ],
            "text/plain": [
              "   Geographic Area  percent_completed_hs\n",
              "19              MA                 92.03\n",
              "11              HI                 91.67\n",
              "6               CT                 91.59\n",
              "21              ME                 91.43\n",
              "30              NH                 90.71\n",
              "34              NY                 90.54\n",
              "31              NJ                 90.52\n",
              "48              WI                 90.26\n",
              "26              MT                 89.99\n",
              "46              VT                 89.98\n",
              "12              IA                 89.67\n",
              "44              UT                 89.64\n",
              "29              NE                 89.52\n",
              "23              MN                 89.47\n",
              "7               DC                 89.30\n",
              "22              MI                 89.21\n",
              "38              PA                 88.97\n",
              "5               CO                 88.93\n",
              "39              RI                 88.82\n",
              "8               DE                 88.52\n",
              "14              IL                 88.29\n",
              "35              OH                 88.20\n",
              "20              MD                 88.08\n",
              "16              KS                 87.97\n",
              "37              OR                 87.60\n",
              "28              ND                 87.60\n",
              "47              WA                 87.07\n",
              "33              NV                 87.05\n",
              "15              IN                 86.32\n",
              "41              SD                 86.18\n",
              "9               FL                 85.46\n",
              "45              VA                 84.88\n",
              "13              ID                 84.42\n",
              "50              WY                 83.97\n",
              "27              NC                 83.14\n",
              "24              MO                 82.79\n",
              "36              OK                 82.46\n",
              "17              KY                 82.22\n",
              "49              WV                 82.14\n",
              "42              TN                 81.63\n",
              "4               CA                 80.82\n",
              "40              SC                 80.65\n",
              "1               AL                 80.16\n",
              "0               AK                 80.10\n",
              "2               AR                 79.95\n",
              "3               AZ                 79.22\n",
              "18              LA                 79.12\n",
              "32              NM                 78.97\n",
              "10              GA                 78.63\n",
              "25              MS                 78.47\n",
              "43              TX                 74.09"
            ]
          },
          "execution_count": 12,
          "metadata": {},
          "output_type": "execute_result"
        }
      ],
      "source": [
        "df_pct_completed_hs.percent_completed_hs = df_pct_completed_hs.percent_completed_hs.replace(\"-\", 0)\n",
        "df_pct_completed_hs.percent_completed_hs = pd.to_numeric(df_pct_completed_hs.percent_completed_hs)\n",
        "df_pct_graduation_by_states = df_pct_completed_hs.groupby(\"Geographic Area\").agg({\"percent_completed_hs\": pd.Series.mean}).reset_index()\n",
        "df_pct_graduation_by_states = df_pct_graduation_by_states.sort_values(\"percent_completed_hs\", ascending=False)\n",
        "df_pct_graduation_by_states"
      ]
    },
    {
      "cell_type": "code",
      "execution_count": 13,
      "metadata": {},
      "outputs": [
        {
          "data": {
            "application/vnd.plotly.v1+json": {
              "config": {
                "plotlyServerURL": "https://plot.ly"
              },
              "data": [
                {
                  "hovertemplate": "Geographic Area=%{x}<br>percent_completed_hs=%{marker.color}<extra></extra>",
                  "legendgroup": "",
                  "marker": {
                    "color": {
                      "bdata": "YiMdNtIBV0BiKjGVmOpWQN7d3d3d5VZAupEbuZHbVkBneRKZhq1WQKH+N+9tolZAewbfslChVkAPIxzJ5JBWQMZCpM2Gf1ZAOcK53YR+VkDqkz7pk2pWQPra4mBBaVZA9BZDOm9hVkBPAQO5y11WQDMzMzMzU1ZA3PvNSEpNVkDfCtGHQz5WQJQnB+BGO1ZAzMzMzMw0VkD9hDgrPyFWQOnIB4qFElZAWqyyUL8MVkBT5LNuMAVWQF/xFV/x/VVA/Xs70oTmVUBbyfscKeZVQGJncrmfxFVA9taGae7CVUAIojvVbpRVQJ45GA20i1VAEZ+Cu0ldVUBwPDRXVjhVQBVgCk66GlVAV1ZWVlb+VEB7wgdwwchUQE6NcWHaslRApll5NaidVEBfQnsJ7Y1UQBpt+RMSiVRA6R+e+GRoVEDeVx7hxjRUQOfev0NTKVRADg8kdHUKVEAlAPEXRgZUQHH2lDrF/FNADmvfsPbNU0DlXBLL1MdTQDN4kLIxvlNAW1wr05qoU0CxEF0/IJ5TQCB5xZKQhVJA",
                      "dtype": "f8"
                    },
                    "coloraxis": "coloraxis",
                    "pattern": {
                      "shape": ""
                    }
                  },
                  "name": "",
                  "orientation": "v",
                  "showlegend": false,
                  "textposition": "auto",
                  "type": "bar",
                  "x": [
                    "MA",
                    "HI",
                    "CT",
                    "ME",
                    "NH",
                    "NY",
                    "NJ",
                    "WI",
                    "MT",
                    "VT",
                    "IA",
                    "UT",
                    "NE",
                    "MN",
                    "DC",
                    "MI",
                    "PA",
                    "CO",
                    "RI",
                    "DE",
                    "IL",
                    "OH",
                    "MD",
                    "KS",
                    "OR",
                    "ND",
                    "WA",
                    "NV",
                    "IN",
                    "SD",
                    "FL",
                    "VA",
                    "ID",
                    "WY",
                    "NC",
                    "MO",
                    "OK",
                    "KY",
                    "WV",
                    "TN",
                    "CA",
                    "SC",
                    "AL",
                    "AK",
                    "AR",
                    "AZ",
                    "LA",
                    "NM",
                    "GA",
                    "MS",
                    "TX"
                  ],
                  "xaxis": "x",
                  "y": {
                    "bdata": "YiMdNtIBV0BiKjGVmOpWQN7d3d3d5VZAupEbuZHbVkBneRKZhq1WQKH+N+9tolZAewbfslChVkAPIxzJ5JBWQMZCpM2Gf1ZAOcK53YR+VkDqkz7pk2pWQPra4mBBaVZA9BZDOm9hVkBPAQO5y11WQDMzMzMzU1ZA3PvNSEpNVkDfCtGHQz5WQJQnB+BGO1ZAzMzMzMw0VkD9hDgrPyFWQOnIB4qFElZAWqyyUL8MVkBT5LNuMAVWQF/xFV/x/VVA/Xs70oTmVUBbyfscKeZVQGJncrmfxFVA9taGae7CVUAIojvVbpRVQJ45GA20i1VAEZ+Cu0ldVUBwPDRXVjhVQBVgCk66GlVAV1ZWVlb+VEB7wgdwwchUQE6NcWHaslRApll5NaidVEBfQnsJ7Y1UQBpt+RMSiVRA6R+e+GRoVEDeVx7hxjRUQOfev0NTKVRADg8kdHUKVEAlAPEXRgZUQHH2lDrF/FNADmvfsPbNU0DlXBLL1MdTQDN4kLIxvlNAW1wr05qoU0CxEF0/IJ5TQCB5xZKQhVJA",
                    "dtype": "f8"
                  },
                  "yaxis": "y"
                }
              ],
              "layout": {
                "barmode": "relative",
                "coloraxis": {
                  "colorbar": {
                    "title": {
                      "text": "percent_completed_hs"
                    }
                  },
                  "colorscale": [
                    [
                      0,
                      "#0d0887"
                    ],
                    [
                      0.1111111111111111,
                      "#46039f"
                    ],
                    [
                      0.2222222222222222,
                      "#7201a8"
                    ],
                    [
                      0.3333333333333333,
                      "#9c179e"
                    ],
                    [
                      0.4444444444444444,
                      "#bd3786"
                    ],
                    [
                      0.5555555555555556,
                      "#d8576b"
                    ],
                    [
                      0.6666666666666666,
                      "#ed7953"
                    ],
                    [
                      0.7777777777777778,
                      "#fb9f3a"
                    ],
                    [
                      0.8888888888888888,
                      "#fdca26"
                    ],
                    [
                      1,
                      "#f0f921"
                    ]
                  ]
                },
                "legend": {
                  "tracegroupgap": 0
                },
                "template": {
                  "data": {
                    "bar": [
                      {
                        "error_x": {
                          "color": "#2a3f5f"
                        },
                        "error_y": {
                          "color": "#2a3f5f"
                        },
                        "marker": {
                          "line": {
                            "color": "#E5ECF6",
                            "width": 0.5
                          },
                          "pattern": {
                            "fillmode": "overlay",
                            "size": 10,
                            "solidity": 0.2
                          }
                        },
                        "type": "bar"
                      }
                    ],
                    "barpolar": [
                      {
                        "marker": {
                          "line": {
                            "color": "#E5ECF6",
                            "width": 0.5
                          },
                          "pattern": {
                            "fillmode": "overlay",
                            "size": 10,
                            "solidity": 0.2
                          }
                        },
                        "type": "barpolar"
                      }
                    ],
                    "carpet": [
                      {
                        "aaxis": {
                          "endlinecolor": "#2a3f5f",
                          "gridcolor": "white",
                          "linecolor": "white",
                          "minorgridcolor": "white",
                          "startlinecolor": "#2a3f5f"
                        },
                        "baxis": {
                          "endlinecolor": "#2a3f5f",
                          "gridcolor": "white",
                          "linecolor": "white",
                          "minorgridcolor": "white",
                          "startlinecolor": "#2a3f5f"
                        },
                        "type": "carpet"
                      }
                    ],
                    "choropleth": [
                      {
                        "colorbar": {
                          "outlinewidth": 0,
                          "ticks": ""
                        },
                        "type": "choropleth"
                      }
                    ],
                    "contour": [
                      {
                        "colorbar": {
                          "outlinewidth": 0,
                          "ticks": ""
                        },
                        "colorscale": [
                          [
                            0,
                            "#0d0887"
                          ],
                          [
                            0.1111111111111111,
                            "#46039f"
                          ],
                          [
                            0.2222222222222222,
                            "#7201a8"
                          ],
                          [
                            0.3333333333333333,
                            "#9c179e"
                          ],
                          [
                            0.4444444444444444,
                            "#bd3786"
                          ],
                          [
                            0.5555555555555556,
                            "#d8576b"
                          ],
                          [
                            0.6666666666666666,
                            "#ed7953"
                          ],
                          [
                            0.7777777777777778,
                            "#fb9f3a"
                          ],
                          [
                            0.8888888888888888,
                            "#fdca26"
                          ],
                          [
                            1,
                            "#f0f921"
                          ]
                        ],
                        "type": "contour"
                      }
                    ],
                    "contourcarpet": [
                      {
                        "colorbar": {
                          "outlinewidth": 0,
                          "ticks": ""
                        },
                        "type": "contourcarpet"
                      }
                    ],
                    "heatmap": [
                      {
                        "colorbar": {
                          "outlinewidth": 0,
                          "ticks": ""
                        },
                        "colorscale": [
                          [
                            0,
                            "#0d0887"
                          ],
                          [
                            0.1111111111111111,
                            "#46039f"
                          ],
                          [
                            0.2222222222222222,
                            "#7201a8"
                          ],
                          [
                            0.3333333333333333,
                            "#9c179e"
                          ],
                          [
                            0.4444444444444444,
                            "#bd3786"
                          ],
                          [
                            0.5555555555555556,
                            "#d8576b"
                          ],
                          [
                            0.6666666666666666,
                            "#ed7953"
                          ],
                          [
                            0.7777777777777778,
                            "#fb9f3a"
                          ],
                          [
                            0.8888888888888888,
                            "#fdca26"
                          ],
                          [
                            1,
                            "#f0f921"
                          ]
                        ],
                        "type": "heatmap"
                      }
                    ],
                    "histogram": [
                      {
                        "marker": {
                          "pattern": {
                            "fillmode": "overlay",
                            "size": 10,
                            "solidity": 0.2
                          }
                        },
                        "type": "histogram"
                      }
                    ],
                    "histogram2d": [
                      {
                        "colorbar": {
                          "outlinewidth": 0,
                          "ticks": ""
                        },
                        "colorscale": [
                          [
                            0,
                            "#0d0887"
                          ],
                          [
                            0.1111111111111111,
                            "#46039f"
                          ],
                          [
                            0.2222222222222222,
                            "#7201a8"
                          ],
                          [
                            0.3333333333333333,
                            "#9c179e"
                          ],
                          [
                            0.4444444444444444,
                            "#bd3786"
                          ],
                          [
                            0.5555555555555556,
                            "#d8576b"
                          ],
                          [
                            0.6666666666666666,
                            "#ed7953"
                          ],
                          [
                            0.7777777777777778,
                            "#fb9f3a"
                          ],
                          [
                            0.8888888888888888,
                            "#fdca26"
                          ],
                          [
                            1,
                            "#f0f921"
                          ]
                        ],
                        "type": "histogram2d"
                      }
                    ],
                    "histogram2dcontour": [
                      {
                        "colorbar": {
                          "outlinewidth": 0,
                          "ticks": ""
                        },
                        "colorscale": [
                          [
                            0,
                            "#0d0887"
                          ],
                          [
                            0.1111111111111111,
                            "#46039f"
                          ],
                          [
                            0.2222222222222222,
                            "#7201a8"
                          ],
                          [
                            0.3333333333333333,
                            "#9c179e"
                          ],
                          [
                            0.4444444444444444,
                            "#bd3786"
                          ],
                          [
                            0.5555555555555556,
                            "#d8576b"
                          ],
                          [
                            0.6666666666666666,
                            "#ed7953"
                          ],
                          [
                            0.7777777777777778,
                            "#fb9f3a"
                          ],
                          [
                            0.8888888888888888,
                            "#fdca26"
                          ],
                          [
                            1,
                            "#f0f921"
                          ]
                        ],
                        "type": "histogram2dcontour"
                      }
                    ],
                    "mesh3d": [
                      {
                        "colorbar": {
                          "outlinewidth": 0,
                          "ticks": ""
                        },
                        "type": "mesh3d"
                      }
                    ],
                    "parcoords": [
                      {
                        "line": {
                          "colorbar": {
                            "outlinewidth": 0,
                            "ticks": ""
                          }
                        },
                        "type": "parcoords"
                      }
                    ],
                    "pie": [
                      {
                        "automargin": true,
                        "type": "pie"
                      }
                    ],
                    "scatter": [
                      {
                        "fillpattern": {
                          "fillmode": "overlay",
                          "size": 10,
                          "solidity": 0.2
                        },
                        "type": "scatter"
                      }
                    ],
                    "scatter3d": [
                      {
                        "line": {
                          "colorbar": {
                            "outlinewidth": 0,
                            "ticks": ""
                          }
                        },
                        "marker": {
                          "colorbar": {
                            "outlinewidth": 0,
                            "ticks": ""
                          }
                        },
                        "type": "scatter3d"
                      }
                    ],
                    "scattercarpet": [
                      {
                        "marker": {
                          "colorbar": {
                            "outlinewidth": 0,
                            "ticks": ""
                          }
                        },
                        "type": "scattercarpet"
                      }
                    ],
                    "scattergeo": [
                      {
                        "marker": {
                          "colorbar": {
                            "outlinewidth": 0,
                            "ticks": ""
                          }
                        },
                        "type": "scattergeo"
                      }
                    ],
                    "scattergl": [
                      {
                        "marker": {
                          "colorbar": {
                            "outlinewidth": 0,
                            "ticks": ""
                          }
                        },
                        "type": "scattergl"
                      }
                    ],
                    "scattermap": [
                      {
                        "marker": {
                          "colorbar": {
                            "outlinewidth": 0,
                            "ticks": ""
                          }
                        },
                        "type": "scattermap"
                      }
                    ],
                    "scattermapbox": [
                      {
                        "marker": {
                          "colorbar": {
                            "outlinewidth": 0,
                            "ticks": ""
                          }
                        },
                        "type": "scattermapbox"
                      }
                    ],
                    "scatterpolar": [
                      {
                        "marker": {
                          "colorbar": {
                            "outlinewidth": 0,
                            "ticks": ""
                          }
                        },
                        "type": "scatterpolar"
                      }
                    ],
                    "scatterpolargl": [
                      {
                        "marker": {
                          "colorbar": {
                            "outlinewidth": 0,
                            "ticks": ""
                          }
                        },
                        "type": "scatterpolargl"
                      }
                    ],
                    "scatterternary": [
                      {
                        "marker": {
                          "colorbar": {
                            "outlinewidth": 0,
                            "ticks": ""
                          }
                        },
                        "type": "scatterternary"
                      }
                    ],
                    "surface": [
                      {
                        "colorbar": {
                          "outlinewidth": 0,
                          "ticks": ""
                        },
                        "colorscale": [
                          [
                            0,
                            "#0d0887"
                          ],
                          [
                            0.1111111111111111,
                            "#46039f"
                          ],
                          [
                            0.2222222222222222,
                            "#7201a8"
                          ],
                          [
                            0.3333333333333333,
                            "#9c179e"
                          ],
                          [
                            0.4444444444444444,
                            "#bd3786"
                          ],
                          [
                            0.5555555555555556,
                            "#d8576b"
                          ],
                          [
                            0.6666666666666666,
                            "#ed7953"
                          ],
                          [
                            0.7777777777777778,
                            "#fb9f3a"
                          ],
                          [
                            0.8888888888888888,
                            "#fdca26"
                          ],
                          [
                            1,
                            "#f0f921"
                          ]
                        ],
                        "type": "surface"
                      }
                    ],
                    "table": [
                      {
                        "cells": {
                          "fill": {
                            "color": "#EBF0F8"
                          },
                          "line": {
                            "color": "white"
                          }
                        },
                        "header": {
                          "fill": {
                            "color": "#C8D4E3"
                          },
                          "line": {
                            "color": "white"
                          }
                        },
                        "type": "table"
                      }
                    ]
                  },
                  "layout": {
                    "annotationdefaults": {
                      "arrowcolor": "#2a3f5f",
                      "arrowhead": 0,
                      "arrowwidth": 1
                    },
                    "autotypenumbers": "strict",
                    "coloraxis": {
                      "colorbar": {
                        "outlinewidth": 0,
                        "ticks": ""
                      }
                    },
                    "colorscale": {
                      "diverging": [
                        [
                          0,
                          "#8e0152"
                        ],
                        [
                          0.1,
                          "#c51b7d"
                        ],
                        [
                          0.2,
                          "#de77ae"
                        ],
                        [
                          0.3,
                          "#f1b6da"
                        ],
                        [
                          0.4,
                          "#fde0ef"
                        ],
                        [
                          0.5,
                          "#f7f7f7"
                        ],
                        [
                          0.6,
                          "#e6f5d0"
                        ],
                        [
                          0.7,
                          "#b8e186"
                        ],
                        [
                          0.8,
                          "#7fbc41"
                        ],
                        [
                          0.9,
                          "#4d9221"
                        ],
                        [
                          1,
                          "#276419"
                        ]
                      ],
                      "sequential": [
                        [
                          0,
                          "#0d0887"
                        ],
                        [
                          0.1111111111111111,
                          "#46039f"
                        ],
                        [
                          0.2222222222222222,
                          "#7201a8"
                        ],
                        [
                          0.3333333333333333,
                          "#9c179e"
                        ],
                        [
                          0.4444444444444444,
                          "#bd3786"
                        ],
                        [
                          0.5555555555555556,
                          "#d8576b"
                        ],
                        [
                          0.6666666666666666,
                          "#ed7953"
                        ],
                        [
                          0.7777777777777778,
                          "#fb9f3a"
                        ],
                        [
                          0.8888888888888888,
                          "#fdca26"
                        ],
                        [
                          1,
                          "#f0f921"
                        ]
                      ],
                      "sequentialminus": [
                        [
                          0,
                          "#0d0887"
                        ],
                        [
                          0.1111111111111111,
                          "#46039f"
                        ],
                        [
                          0.2222222222222222,
                          "#7201a8"
                        ],
                        [
                          0.3333333333333333,
                          "#9c179e"
                        ],
                        [
                          0.4444444444444444,
                          "#bd3786"
                        ],
                        [
                          0.5555555555555556,
                          "#d8576b"
                        ],
                        [
                          0.6666666666666666,
                          "#ed7953"
                        ],
                        [
                          0.7777777777777778,
                          "#fb9f3a"
                        ],
                        [
                          0.8888888888888888,
                          "#fdca26"
                        ],
                        [
                          1,
                          "#f0f921"
                        ]
                      ]
                    },
                    "colorway": [
                      "#636efa",
                      "#EF553B",
                      "#00cc96",
                      "#ab63fa",
                      "#FFA15A",
                      "#19d3f3",
                      "#FF6692",
                      "#B6E880",
                      "#FF97FF",
                      "#FECB52"
                    ],
                    "font": {
                      "color": "#2a3f5f"
                    },
                    "geo": {
                      "bgcolor": "white",
                      "lakecolor": "white",
                      "landcolor": "#E5ECF6",
                      "showlakes": true,
                      "showland": true,
                      "subunitcolor": "white"
                    },
                    "hoverlabel": {
                      "align": "left"
                    },
                    "hovermode": "closest",
                    "mapbox": {
                      "style": "light"
                    },
                    "paper_bgcolor": "white",
                    "plot_bgcolor": "#E5ECF6",
                    "polar": {
                      "angularaxis": {
                        "gridcolor": "white",
                        "linecolor": "white",
                        "ticks": ""
                      },
                      "bgcolor": "#E5ECF6",
                      "radialaxis": {
                        "gridcolor": "white",
                        "linecolor": "white",
                        "ticks": ""
                      }
                    },
                    "scene": {
                      "xaxis": {
                        "backgroundcolor": "#E5ECF6",
                        "gridcolor": "white",
                        "gridwidth": 2,
                        "linecolor": "white",
                        "showbackground": true,
                        "ticks": "",
                        "zerolinecolor": "white"
                      },
                      "yaxis": {
                        "backgroundcolor": "#E5ECF6",
                        "gridcolor": "white",
                        "gridwidth": 2,
                        "linecolor": "white",
                        "showbackground": true,
                        "ticks": "",
                        "zerolinecolor": "white"
                      },
                      "zaxis": {
                        "backgroundcolor": "#E5ECF6",
                        "gridcolor": "white",
                        "gridwidth": 2,
                        "linecolor": "white",
                        "showbackground": true,
                        "ticks": "",
                        "zerolinecolor": "white"
                      }
                    },
                    "shapedefaults": {
                      "line": {
                        "color": "#2a3f5f"
                      }
                    },
                    "ternary": {
                      "aaxis": {
                        "gridcolor": "white",
                        "linecolor": "white",
                        "ticks": ""
                      },
                      "baxis": {
                        "gridcolor": "white",
                        "linecolor": "white",
                        "ticks": ""
                      },
                      "bgcolor": "#E5ECF6",
                      "caxis": {
                        "gridcolor": "white",
                        "linecolor": "white",
                        "ticks": ""
                      }
                    },
                    "title": {
                      "x": 0.05
                    },
                    "xaxis": {
                      "automargin": true,
                      "gridcolor": "white",
                      "linecolor": "white",
                      "ticks": "",
                      "title": {
                        "standoff": 15
                      },
                      "zerolinecolor": "white",
                      "zerolinewidth": 2
                    },
                    "yaxis": {
                      "automargin": true,
                      "gridcolor": "white",
                      "linecolor": "white",
                      "ticks": "",
                      "title": {
                        "standoff": 15
                      },
                      "zerolinecolor": "white",
                      "zerolinewidth": 2
                    }
                  }
                },
                "title": {
                  "text": "High School Graduation Rate by US State"
                },
                "xaxis": {
                  "anchor": "y",
                  "domain": [
                    0,
                    1
                  ],
                  "title": {
                    "text": "States"
                  }
                },
                "yaxis": {
                  "anchor": "x",
                  "domain": [
                    0,
                    1
                  ],
                  "title": {
                    "text": "Graduation Rate"
                  }
                }
              }
            }
          },
          "metadata": {},
          "output_type": "display_data"
        }
      ],
      "source": [
        "fig = px.bar(\n",
        "    data_frame=df_pct_graduation_by_states,\n",
        "    x=\"Geographic Area\",\n",
        "    y=\"percent_completed_hs\",\n",
        "    color=\"percent_completed_hs\",\n",
        "    title=\"High School Graduation Rate by US State\"\n",
        ")\n",
        "\n",
        "fig.update_layout(\n",
        "    xaxis_title=\"States\",\n",
        "    yaxis_title=\"Graduation Rate\"\n",
        ")\n",
        "\n",
        "fig.show()"
      ]
    },
    {
      "cell_type": "markdown",
      "metadata": {
        "id": "ENGTEmPQ0Rvt"
      },
      "source": [
        "# Visualise the Relationship between Poverty Rates and High School Graduation Rates\n",
        "\n",
        "#### Create a line chart with two y-axes to show if the rations of poverty and high school graduation move together.  "
      ]
    },
    {
      "cell_type": "code",
      "execution_count": 14,
      "metadata": {},
      "outputs": [
        {
          "data": {
            "application/vnd.microsoft.datawrangler.viewer.v0+json": {
              "columns": [
                {
                  "name": "index",
                  "rawType": "int64",
                  "type": "integer"
                },
                {
                  "name": "Geographic Area",
                  "rawType": "object",
                  "type": "string"
                },
                {
                  "name": "poverty_rate",
                  "rawType": "float64",
                  "type": "float"
                },
                {
                  "name": "percent_completed_hs",
                  "rawType": "float64",
                  "type": "float"
                }
              ],
              "ref": "a16c997c-3e58-4df3-9b48-3d442957c2b6",
              "rows": [
                [
                  "0",
                  "MS",
                  "26.884254143646405",
                  "78.4707182320442"
                ],
                [
                  "1",
                  "AZ",
                  "25.268070953436805",
                  "79.21818181818182"
                ],
                [
                  "2",
                  "GA",
                  "23.663636363636364",
                  "78.63444976076555"
                ],
                [
                  "3",
                  "AR",
                  "22.963216266173752",
                  "79.94953789279113"
                ],
                [
                  "4",
                  "NM",
                  "22.507674943566595",
                  "78.97178329571106"
                ],
                [
                  "5",
                  "LA",
                  "22.291772151898737",
                  "79.12236286919831"
                ],
                [
                  "6",
                  "SC",
                  "22.105555555555554",
                  "80.64570707070708"
                ],
                [
                  "7",
                  "WV",
                  "21.08222222222222",
                  "82.14172839506173"
                ],
                [
                  "8",
                  "AL",
                  "20.611794871794874",
                  "80.1634188034188"
                ],
                [
                  "9",
                  "OK",
                  "20.545895020188425",
                  "82.46339165545086"
                ],
                [
                  "10",
                  "KY",
                  "20.080000000000002",
                  "82.2175925925926"
                ],
                [
                  "11",
                  "MO",
                  "19.930687318489838",
                  "82.79457889641819"
                ],
                [
                  "12",
                  "TN",
                  "19.88720930232558",
                  "81.63116279069767"
                ],
                [
                  "13",
                  "NC",
                  "19.720568335588634",
                  "83.13680649526388"
                ],
                [
                  "14",
                  "TX",
                  "19.496222095020034",
                  "74.08694905552375"
                ],
                [
                  "15",
                  "AK",
                  "18.678591549295774",
                  "80.09802816901409"
                ],
                [
                  "16",
                  "ID",
                  "18.07621145374449",
                  "84.41762114537444"
                ],
                [
                  "17",
                  "DC",
                  "18.0",
                  "89.3"
                ],
                [
                  "18",
                  "MI",
                  "17.900722543352604",
                  "89.20765895953758"
                ],
                [
                  "19",
                  "FL",
                  "17.508605664488016",
                  "85.45762527233116"
                ],
                [
                  "20",
                  "ME",
                  "16.89384615384615",
                  "91.43076923076924"
                ],
                [
                  "21",
                  "CA",
                  "16.888370565045992",
                  "80.82463863337713"
                ],
                [
                  "22",
                  "OR",
                  "16.43580901856764",
                  "87.60185676392571"
                ],
                [
                  "23",
                  "MT",
                  "16.423287671232877",
                  "89.99260273972604"
                ],
                [
                  "24",
                  "SD",
                  "15.745268542199488",
                  "86.18286445012788"
                ],
                [
                  "25",
                  "IN",
                  "15.499852941176472",
                  "86.31926470588235"
                ],
                [
                  "26",
                  "OH",
                  "14.826666666666668",
                  "88.19917695473251"
                ],
                [
                  "27",
                  "WA",
                  "14.825996810207336",
                  "87.07224880382776"
                ],
                [
                  "28",
                  "KS",
                  "14.71904761904762",
                  "87.96785714285714"
                ],
                [
                  "29",
                  "VA",
                  "14.5858347386172",
                  "84.88026981450253"
                ],
                [
                  "30",
                  "IL",
                  "13.849342105263158",
                  "88.28940058479533"
                ],
                [
                  "31",
                  "VT",
                  "13.785950413223139",
                  "89.97685950413224"
                ],
                [
                  "32",
                  "MN",
                  "13.745736434108526",
                  "89.46555924695461"
                ],
                [
                  "33",
                  "HI",
                  "13.400662251655628",
                  "91.66556291390728"
                ],
                [
                  "34",
                  "CO",
                  "13.187772925764195",
                  "88.92620087336246"
                ],
                [
                  "35",
                  "NE",
                  "12.91741379310345",
                  "89.52241379310345"
                ],
                [
                  "36",
                  "WI",
                  "12.85868725868726",
                  "90.26396396396397"
                ],
                [
                  "37",
                  "NH",
                  "12.659793814432993",
                  "90.71134020618557"
                ],
                [
                  "38",
                  "DE",
                  "12.555844155844156",
                  "88.51948051948052"
                ],
                [
                  "39",
                  "PA",
                  "12.48717366628831",
                  "88.9728717366629"
                ],
                [
                  "40",
                  "NV",
                  "12.370992366412214",
                  "87.04580152671755"
                ],
                [
                  "41",
                  "IA",
                  "12.23154761904762",
                  "89.66527777777779"
                ],
                [
                  "42",
                  "ND",
                  "12.131920199501247",
                  "87.59625935162096"
                ],
                [
                  "43",
                  "UT",
                  "11.724615384615385",
                  "89.64461538461538"
                ],
                [
                  "44",
                  "NY",
                  "11.638963210702341",
                  "90.53795986622073"
                ],
                [
                  "45",
                  "RI",
                  "10.369444444444444",
                  "88.82499999999999"
                ],
                [
                  "46",
                  "MD",
                  "10.272393822393823",
                  "88.08108108108108"
                ],
                [
                  "47",
                  "MA",
                  "9.546341463414633",
                  "92.02845528455285"
                ],
                [
                  "48",
                  "CT",
                  "9.137500000000001",
                  "91.59166666666667"
                ],
                [
                  "49",
                  "WY",
                  "9.063725490196079",
                  "83.97401960784315"
                ]
              ],
              "shape": {
                "columns": 3,
                "rows": 51
              }
            },
            "text/html": [
              "<div>\n",
              "<style scoped>\n",
              "    .dataframe tbody tr th:only-of-type {\n",
              "        vertical-align: middle;\n",
              "    }\n",
              "\n",
              "    .dataframe tbody tr th {\n",
              "        vertical-align: top;\n",
              "    }\n",
              "\n",
              "    .dataframe thead th {\n",
              "        text-align: right;\n",
              "    }\n",
              "</style>\n",
              "<table border=\"1\" class=\"dataframe\">\n",
              "  <thead>\n",
              "    <tr style=\"text-align: right;\">\n",
              "      <th></th>\n",
              "      <th>Geographic Area</th>\n",
              "      <th>poverty_rate</th>\n",
              "      <th>percent_completed_hs</th>\n",
              "    </tr>\n",
              "  </thead>\n",
              "  <tbody>\n",
              "    <tr>\n",
              "      <th>0</th>\n",
              "      <td>MS</td>\n",
              "      <td>26.88</td>\n",
              "      <td>78.47</td>\n",
              "    </tr>\n",
              "    <tr>\n",
              "      <th>1</th>\n",
              "      <td>AZ</td>\n",
              "      <td>25.27</td>\n",
              "      <td>79.22</td>\n",
              "    </tr>\n",
              "    <tr>\n",
              "      <th>2</th>\n",
              "      <td>GA</td>\n",
              "      <td>23.66</td>\n",
              "      <td>78.63</td>\n",
              "    </tr>\n",
              "    <tr>\n",
              "      <th>3</th>\n",
              "      <td>AR</td>\n",
              "      <td>22.96</td>\n",
              "      <td>79.95</td>\n",
              "    </tr>\n",
              "    <tr>\n",
              "      <th>4</th>\n",
              "      <td>NM</td>\n",
              "      <td>22.51</td>\n",
              "      <td>78.97</td>\n",
              "    </tr>\n",
              "    <tr>\n",
              "      <th>5</th>\n",
              "      <td>LA</td>\n",
              "      <td>22.29</td>\n",
              "      <td>79.12</td>\n",
              "    </tr>\n",
              "    <tr>\n",
              "      <th>6</th>\n",
              "      <td>SC</td>\n",
              "      <td>22.11</td>\n",
              "      <td>80.65</td>\n",
              "    </tr>\n",
              "    <tr>\n",
              "      <th>7</th>\n",
              "      <td>WV</td>\n",
              "      <td>21.08</td>\n",
              "      <td>82.14</td>\n",
              "    </tr>\n",
              "    <tr>\n",
              "      <th>8</th>\n",
              "      <td>AL</td>\n",
              "      <td>20.61</td>\n",
              "      <td>80.16</td>\n",
              "    </tr>\n",
              "    <tr>\n",
              "      <th>9</th>\n",
              "      <td>OK</td>\n",
              "      <td>20.55</td>\n",
              "      <td>82.46</td>\n",
              "    </tr>\n",
              "    <tr>\n",
              "      <th>10</th>\n",
              "      <td>KY</td>\n",
              "      <td>20.08</td>\n",
              "      <td>82.22</td>\n",
              "    </tr>\n",
              "    <tr>\n",
              "      <th>11</th>\n",
              "      <td>MO</td>\n",
              "      <td>19.93</td>\n",
              "      <td>82.79</td>\n",
              "    </tr>\n",
              "    <tr>\n",
              "      <th>12</th>\n",
              "      <td>TN</td>\n",
              "      <td>19.89</td>\n",
              "      <td>81.63</td>\n",
              "    </tr>\n",
              "    <tr>\n",
              "      <th>13</th>\n",
              "      <td>NC</td>\n",
              "      <td>19.72</td>\n",
              "      <td>83.14</td>\n",
              "    </tr>\n",
              "    <tr>\n",
              "      <th>14</th>\n",
              "      <td>TX</td>\n",
              "      <td>19.50</td>\n",
              "      <td>74.09</td>\n",
              "    </tr>\n",
              "    <tr>\n",
              "      <th>15</th>\n",
              "      <td>AK</td>\n",
              "      <td>18.68</td>\n",
              "      <td>80.10</td>\n",
              "    </tr>\n",
              "    <tr>\n",
              "      <th>16</th>\n",
              "      <td>ID</td>\n",
              "      <td>18.08</td>\n",
              "      <td>84.42</td>\n",
              "    </tr>\n",
              "    <tr>\n",
              "      <th>17</th>\n",
              "      <td>DC</td>\n",
              "      <td>18.00</td>\n",
              "      <td>89.30</td>\n",
              "    </tr>\n",
              "    <tr>\n",
              "      <th>18</th>\n",
              "      <td>MI</td>\n",
              "      <td>17.90</td>\n",
              "      <td>89.21</td>\n",
              "    </tr>\n",
              "    <tr>\n",
              "      <th>19</th>\n",
              "      <td>FL</td>\n",
              "      <td>17.51</td>\n",
              "      <td>85.46</td>\n",
              "    </tr>\n",
              "    <tr>\n",
              "      <th>20</th>\n",
              "      <td>ME</td>\n",
              "      <td>16.89</td>\n",
              "      <td>91.43</td>\n",
              "    </tr>\n",
              "    <tr>\n",
              "      <th>21</th>\n",
              "      <td>CA</td>\n",
              "      <td>16.89</td>\n",
              "      <td>80.82</td>\n",
              "    </tr>\n",
              "    <tr>\n",
              "      <th>22</th>\n",
              "      <td>OR</td>\n",
              "      <td>16.44</td>\n",
              "      <td>87.60</td>\n",
              "    </tr>\n",
              "    <tr>\n",
              "      <th>23</th>\n",
              "      <td>MT</td>\n",
              "      <td>16.42</td>\n",
              "      <td>89.99</td>\n",
              "    </tr>\n",
              "    <tr>\n",
              "      <th>24</th>\n",
              "      <td>SD</td>\n",
              "      <td>15.75</td>\n",
              "      <td>86.18</td>\n",
              "    </tr>\n",
              "    <tr>\n",
              "      <th>25</th>\n",
              "      <td>IN</td>\n",
              "      <td>15.50</td>\n",
              "      <td>86.32</td>\n",
              "    </tr>\n",
              "    <tr>\n",
              "      <th>26</th>\n",
              "      <td>OH</td>\n",
              "      <td>14.83</td>\n",
              "      <td>88.20</td>\n",
              "    </tr>\n",
              "    <tr>\n",
              "      <th>27</th>\n",
              "      <td>WA</td>\n",
              "      <td>14.83</td>\n",
              "      <td>87.07</td>\n",
              "    </tr>\n",
              "    <tr>\n",
              "      <th>28</th>\n",
              "      <td>KS</td>\n",
              "      <td>14.72</td>\n",
              "      <td>87.97</td>\n",
              "    </tr>\n",
              "    <tr>\n",
              "      <th>29</th>\n",
              "      <td>VA</td>\n",
              "      <td>14.59</td>\n",
              "      <td>84.88</td>\n",
              "    </tr>\n",
              "    <tr>\n",
              "      <th>30</th>\n",
              "      <td>IL</td>\n",
              "      <td>13.85</td>\n",
              "      <td>88.29</td>\n",
              "    </tr>\n",
              "    <tr>\n",
              "      <th>31</th>\n",
              "      <td>VT</td>\n",
              "      <td>13.79</td>\n",
              "      <td>89.98</td>\n",
              "    </tr>\n",
              "    <tr>\n",
              "      <th>32</th>\n",
              "      <td>MN</td>\n",
              "      <td>13.75</td>\n",
              "      <td>89.47</td>\n",
              "    </tr>\n",
              "    <tr>\n",
              "      <th>33</th>\n",
              "      <td>HI</td>\n",
              "      <td>13.40</td>\n",
              "      <td>91.67</td>\n",
              "    </tr>\n",
              "    <tr>\n",
              "      <th>34</th>\n",
              "      <td>CO</td>\n",
              "      <td>13.19</td>\n",
              "      <td>88.93</td>\n",
              "    </tr>\n",
              "    <tr>\n",
              "      <th>35</th>\n",
              "      <td>NE</td>\n",
              "      <td>12.92</td>\n",
              "      <td>89.52</td>\n",
              "    </tr>\n",
              "    <tr>\n",
              "      <th>36</th>\n",
              "      <td>WI</td>\n",
              "      <td>12.86</td>\n",
              "      <td>90.26</td>\n",
              "    </tr>\n",
              "    <tr>\n",
              "      <th>37</th>\n",
              "      <td>NH</td>\n",
              "      <td>12.66</td>\n",
              "      <td>90.71</td>\n",
              "    </tr>\n",
              "    <tr>\n",
              "      <th>38</th>\n",
              "      <td>DE</td>\n",
              "      <td>12.56</td>\n",
              "      <td>88.52</td>\n",
              "    </tr>\n",
              "    <tr>\n",
              "      <th>39</th>\n",
              "      <td>PA</td>\n",
              "      <td>12.49</td>\n",
              "      <td>88.97</td>\n",
              "    </tr>\n",
              "    <tr>\n",
              "      <th>40</th>\n",
              "      <td>NV</td>\n",
              "      <td>12.37</td>\n",
              "      <td>87.05</td>\n",
              "    </tr>\n",
              "    <tr>\n",
              "      <th>41</th>\n",
              "      <td>IA</td>\n",
              "      <td>12.23</td>\n",
              "      <td>89.67</td>\n",
              "    </tr>\n",
              "    <tr>\n",
              "      <th>42</th>\n",
              "      <td>ND</td>\n",
              "      <td>12.13</td>\n",
              "      <td>87.60</td>\n",
              "    </tr>\n",
              "    <tr>\n",
              "      <th>43</th>\n",
              "      <td>UT</td>\n",
              "      <td>11.72</td>\n",
              "      <td>89.64</td>\n",
              "    </tr>\n",
              "    <tr>\n",
              "      <th>44</th>\n",
              "      <td>NY</td>\n",
              "      <td>11.64</td>\n",
              "      <td>90.54</td>\n",
              "    </tr>\n",
              "    <tr>\n",
              "      <th>45</th>\n",
              "      <td>RI</td>\n",
              "      <td>10.37</td>\n",
              "      <td>88.82</td>\n",
              "    </tr>\n",
              "    <tr>\n",
              "      <th>46</th>\n",
              "      <td>MD</td>\n",
              "      <td>10.27</td>\n",
              "      <td>88.08</td>\n",
              "    </tr>\n",
              "    <tr>\n",
              "      <th>47</th>\n",
              "      <td>MA</td>\n",
              "      <td>9.55</td>\n",
              "      <td>92.03</td>\n",
              "    </tr>\n",
              "    <tr>\n",
              "      <th>48</th>\n",
              "      <td>CT</td>\n",
              "      <td>9.14</td>\n",
              "      <td>91.59</td>\n",
              "    </tr>\n",
              "    <tr>\n",
              "      <th>49</th>\n",
              "      <td>WY</td>\n",
              "      <td>9.06</td>\n",
              "      <td>83.97</td>\n",
              "    </tr>\n",
              "    <tr>\n",
              "      <th>50</th>\n",
              "      <td>NJ</td>\n",
              "      <td>8.16</td>\n",
              "      <td>90.52</td>\n",
              "    </tr>\n",
              "  </tbody>\n",
              "</table>\n",
              "</div>"
            ],
            "text/plain": [
              "   Geographic Area  poverty_rate  percent_completed_hs\n",
              "0               MS         26.88                 78.47\n",
              "1               AZ         25.27                 79.22\n",
              "2               GA         23.66                 78.63\n",
              "3               AR         22.96                 79.95\n",
              "4               NM         22.51                 78.97\n",
              "5               LA         22.29                 79.12\n",
              "6               SC         22.11                 80.65\n",
              "7               WV         21.08                 82.14\n",
              "8               AL         20.61                 80.16\n",
              "9               OK         20.55                 82.46\n",
              "10              KY         20.08                 82.22\n",
              "11              MO         19.93                 82.79\n",
              "12              TN         19.89                 81.63\n",
              "13              NC         19.72                 83.14\n",
              "14              TX         19.50                 74.09\n",
              "15              AK         18.68                 80.10\n",
              "16              ID         18.08                 84.42\n",
              "17              DC         18.00                 89.30\n",
              "18              MI         17.90                 89.21\n",
              "19              FL         17.51                 85.46\n",
              "20              ME         16.89                 91.43\n",
              "21              CA         16.89                 80.82\n",
              "22              OR         16.44                 87.60\n",
              "23              MT         16.42                 89.99\n",
              "24              SD         15.75                 86.18\n",
              "25              IN         15.50                 86.32\n",
              "26              OH         14.83                 88.20\n",
              "27              WA         14.83                 87.07\n",
              "28              KS         14.72                 87.97\n",
              "29              VA         14.59                 84.88\n",
              "30              IL         13.85                 88.29\n",
              "31              VT         13.79                 89.98\n",
              "32              MN         13.75                 89.47\n",
              "33              HI         13.40                 91.67\n",
              "34              CO         13.19                 88.93\n",
              "35              NE         12.92                 89.52\n",
              "36              WI         12.86                 90.26\n",
              "37              NH         12.66                 90.71\n",
              "38              DE         12.56                 88.52\n",
              "39              PA         12.49                 88.97\n",
              "40              NV         12.37                 87.05\n",
              "41              IA         12.23                 89.67\n",
              "42              ND         12.13                 87.60\n",
              "43              UT         11.72                 89.64\n",
              "44              NY         11.64                 90.54\n",
              "45              RI         10.37                 88.82\n",
              "46              MD         10.27                 88.08\n",
              "47              MA          9.55                 92.03\n",
              "48              CT          9.14                 91.59\n",
              "49              WY          9.06                 83.97\n",
              "50              NJ          8.16                 90.52"
            ]
          },
          "execution_count": 14,
          "metadata": {},
          "output_type": "execute_result"
        }
      ],
      "source": [
        "# With the same states, merge two df\n",
        "df_poverty_graduation = pd.merge(df_poverty_rate, df_pct_graduation_by_states, on=\"Geographic Area\")\n",
        "df_poverty_graduation"
      ]
    },
    {
      "cell_type": "code",
      "execution_count": 15,
      "metadata": {
        "id": "MkNk5U8v0JPB"
      },
      "outputs": [
        {
          "data": {
            "image/png": "[encoded data removed]",
            "text/plain": [
              "<Figure size 1200x600 with 2 Axes>"
            ]
          },
          "metadata": {},
          "output_type": "display_data"
        }
      ],
      "source": [
        "x = np.arange(len(df_poverty_graduation[\"Geographic Area\"]))\n",
        "width=0.4\n",
        "\n",
        "fig, ax1 = plt.subplots(figsize=(12,6))\n",
        "\n",
        "# First Y axis\n",
        "bar_poverty = ax1.bar(x - width/2, df_poverty_graduation.poverty_rate, width, color=\"skyblue\", label=\"Poverty Rate\")\n",
        "ax1.set_ylabel(\"Poverty Rate\", color=\"skyblue\")\n",
        "ax1.tick_params(axis=\"y\", labelcolor=\"skyblue\")\n",
        "\n",
        "ax1.set_xlabel(\"States\")\n",
        "ax1.set_xticks(x)\n",
        "ax1.set_xticklabels(df_poverty_graduation[\"Geographic Area\"], rotation=90)\n",
        "\n",
        "# Second Y axis\n",
        "ax2 = ax1.twinx()\n",
        "bar_graduation = ax2.bar(x + width/2, df_poverty_graduation.percent_completed_hs, width, color=\"salmon\", label=\"Graduation Rate\")\n",
        "ax2.set_ylabel(\"Graduation Rate\", color=\"salmon\")\n",
        "ax2.tick_params(axis=\"y\", labelcolor=\"salmon\")\n",
        "\n",
        "plt.title(\"Line Chart with Poverty and Graduation Rate by each State\")\n",
        "\n",
        "fig.tight_layout()\n",
        "\n",
        "plt.show()"
      ]
    },
    {
      "cell_type": "markdown",
      "metadata": {
        "id": "Zavx_8PL1Jy9"
      },
      "source": [
        "#### Now use a Seaborn .jointplot() with a Kernel Density Estimate (KDE) and/or scatter plot to visualise the same relationship"
      ]
    },
    {
      "cell_type": "code",
      "execution_count": 16,
      "metadata": {
        "id": "u77CHfdX0pjW"
      },
      "outputs": [
        {
          "data": {
            "text/plain": [
              "<seaborn.axisgrid.JointGrid at 0x1cc239b1f90>"
            ]
          },
          "execution_count": 16,
          "metadata": {},
          "output_type": "execute_result"
        },
        {
          "data": {
            "image/png": "[encoded data removed]",
            "text/plain": [
              "<Figure size 600x600 with 3 Axes>"
            ]
          },
          "metadata": {},
          "output_type": "display_data"
        }
      ],
      "source": [
        "sb = sns.jointplot(\n",
        "    data=df_poverty_graduation,\n",
        "    x=\"poverty_rate\",\n",
        "    y=\"percent_completed_hs\",\n",
        "    color=\"purple\",\n",
        "    kind=\"scatter\",\n",
        "    marginal_kws=dict(bins=25, fill=True, kde=True) # dict=dictionary\n",
        ")\n",
        "\n",
        "sb.set_axis_labels(\"Poverty (%)\", \"High School Graduation Rate(%)\", fontsize=18)"
      ]
    },
    {
      "cell_type": "markdown",
      "metadata": {
        "id": "PXNFQmHl10Fx"
      },
      "source": [
        "#### Seaborn's `.lmplot()` or `.regplot()` to show a linear regression between the poverty ratio and the high school graduation ratio. "
      ]
    },
    {
      "cell_type": "code",
      "execution_count": 17,
      "metadata": {
        "id": "F1xrjFgT1znI"
      },
      "outputs": [
        {
          "data": {
            "text/plain": [
              "<seaborn.axisgrid.FacetGrid at 0x1cc25ded1d0>"
            ]
          },
          "execution_count": 17,
          "metadata": {},
          "output_type": "execute_result"
        },
        {
          "data": {
            "image/png": "[encoded data removed]",
            "text/plain": [
              "<Figure size 500x500 with 1 Axes>"
            ]
          },
          "metadata": {},
          "output_type": "display_data"
        }
      ],
      "source": [
        "sb = sns.lmplot(\n",
        "    data=df_poverty_graduation,\n",
        "    x=\"poverty_rate\",\n",
        "    y=\"percent_completed_hs\",\n",
        "    scatter=True,\n",
        ")\n",
        "\n",
        "sb.set_axis_labels(\"Poverty (%)\", \"High School Graduation Rate(%)\", fontsize=18)"
      ]
    },
    {
      "cell_type": "code",
      "execution_count": 18,
      "metadata": {},
      "outputs": [
        {
          "data": {
            "text/plain": [
              "Text(0, 0.5, 'High School Graduation Rate (%)')"
            ]
          },
          "execution_count": 18,
          "metadata": {},
          "output_type": "execute_result"
        },
        {
          "data": {
            "image/png": "[encoded data removed]",
            "text/plain": [
              "<Figure size 640x480 with 1 Axes>"
            ]
          },
          "metadata": {},
          "output_type": "display_data"
        }
      ],
      "source": [
        "sb = sns.regplot(\n",
        "    data=df_poverty_graduation,\n",
        "    x=\"poverty_rate\",\n",
        "    y=\"percent_completed_hs\",\n",
        "    scatter=True,\n",
        "    color=\"crimson\"\n",
        ")\n",
        "\n",
        "sb.set_xlabel(\"Poverty Rate (%)\", fontsize=16)\n",
        "sb.set_ylabel(\"High School Graduation Rate (%)\", fontsize=16)"
      ]
    },
    {
      "cell_type": "markdown",
      "metadata": {
        "id": "QJTbZZKg0p6i"
      },
      "source": [
        "# Create a Bar Chart with Subsections Showing the Racial Makeup of Each US State\n",
        "\n",
        "Visualise the share of the white, black, hispanic, asian and native american population in each US State using a bar chart with sub sections. "
      ]
    },
    {
      "cell_type": "code",
      "execution_count": 19,
      "metadata": {
        "id": "YQbXb6Ex09D9"
      },
      "outputs": [
        {
          "data": {
            "application/vnd.microsoft.datawrangler.viewer.v0+json": {
              "columns": [
                {
                  "name": "index",
                  "rawType": "int64",
                  "type": "integer"
                },
                {
                  "name": "Geographic area",
                  "rawType": "object",
                  "type": "string"
                },
                {
                  "name": "share_white",
                  "rawType": "float64",
                  "type": "float"
                },
                {
                  "name": "share_black",
                  "rawType": "float64",
                  "type": "float"
                },
                {
                  "name": "share_native_american",
                  "rawType": "float64",
                  "type": "float"
                },
                {
                  "name": "share_asian",
                  "rawType": "float64",
                  "type": "float"
                },
                {
                  "name": "share_hispanic",
                  "rawType": "float64",
                  "type": "float"
                }
              ],
              "ref": "e80b73b0-2ea1-4679-b12a-248075858843",
              "rows": [
                [
                  "0",
                  "AK",
                  "45.65",
                  "0.5673295454545454",
                  "45.86477272727273",
                  "1.3883522727272728",
                  "2.149147727272727"
                ],
                [
                  "1",
                  "AL",
                  "72.50726643598615",
                  "23.322318339100345",
                  "0.6593425605536333",
                  "0.47975778546712805",
                  "2.9801038062283736"
                ],
                [
                  "2",
                  "AR",
                  "78.44953789279113",
                  "16.29685767097967",
                  "0.7598890942698706",
                  "0.4770794824399261",
                  "4.273012939001848"
                ],
                [
                  "3",
                  "AZ",
                  "59.929046563192905",
                  "0.9545454545454546",
                  "28.58980044345898",
                  "0.7266075388026607",
                  "20.144567627494457"
                ],
                [
                  "4",
                  "CA",
                  "71.86629287598944",
                  "2.692018469656992",
                  "1.7230870712401054",
                  "5.56820580474934",
                  "29.649868073878626"
                ],
                [
                  "5",
                  "CO",
                  "87.76834061135372",
                  "0.9176855895196507",
                  "1.624890829694323",
                  "1.1548034934497815",
                  "17.89868995633188"
                ],
                [
                  "6",
                  "CT",
                  "86.1055944055944",
                  "4.992307692307692",
                  "0.6566433566433567",
                  "2.9895104895104896",
                  "7.975524475524476"
                ],
                [
                  "7",
                  "DC",
                  "38.5",
                  "50.7",
                  "0.3",
                  "3.5",
                  "9.1"
                ],
                [
                  "8",
                  "DE",
                  "76.24605263157895",
                  "15.393421052631581",
                  "0.5236842105263158",
                  "2.0",
                  "7.417105263157896"
                ],
                [
                  "9",
                  "FL",
                  "78.6725",
                  "13.370869565217392",
                  "0.45543478260869563",
                  "1.6167391304347827",
                  "16.52913043478261"
                ],
                [
                  "10",
                  "GA",
                  "62.591533546325884",
                  "30.63354632587859",
                  "0.3003194888178914",
                  "1.4915335463258788",
                  "6.415175718849841"
                ],
                [
                  "11",
                  "HI",
                  "33.36953642384106",
                  "1.0708609271523177",
                  "0.3880794701986755",
                  "25.65496688741722",
                  "10.358278145695364"
                ],
                [
                  "12",
                  "IA",
                  "96.70584737363725",
                  "0.5635282457879088",
                  "0.2713577799801784",
                  "0.400792864222002",
                  "2.8190287413280477"
                ],
                [
                  "13",
                  "ID",
                  "88.81762114537445",
                  "0.29515418502202645",
                  "2.524669603524229",
                  "0.48766519823788546",
                  "10.695154185022027"
                ],
                [
                  "14",
                  "IL",
                  "90.35705925384053",
                  "4.70431602048281",
                  "0.26181419166057057",
                  "1.337454279444038",
                  "5.170519385515728"
                ],
                [
                  "15",
                  "IN",
                  "94.82390029325514",
                  "1.6882697947214078",
                  "0.27580645161290324",
                  "0.5868035190615836",
                  "3.3181818181818183"
                ],
                [
                  "16",
                  "KS",
                  "92.96259314456036",
                  "0.9605067064083458",
                  "1.8731743666169898",
                  "0.42637853949329363",
                  "5.071684053651267"
                ],
                [
                  "17",
                  "KY",
                  "92.22685714285714",
                  "4.421142857142857",
                  "0.21009523809523808",
                  "0.711047619047619",
                  "2.2255238095238097"
                ],
                [
                  "18",
                  "LA",
                  "64.81458773784355",
                  "30.775475687103594",
                  "0.9572938689217759",
                  "0.7864693446088795",
                  "2.9765327695560257"
                ],
                [
                  "19",
                  "MA",
                  "89.67201646090534",
                  "2.8020576131687243",
                  "0.26625514403292183",
                  "2.853497942386831",
                  "4.946090534979424"
                ],
                [
                  "20",
                  "MD",
                  "72.11640926640928",
                  "19.463899613899613",
                  "0.34092664092664093",
                  "2.9801158301158304",
                  "5.931467181467181"
                ],
                [
                  "21",
                  "ME",
                  "95.68625954198473",
                  "0.8198473282442749",
                  "0.5450381679389313",
                  "1.03206106870229",
                  "1.3129770992366412"
                ],
                [
                  "22",
                  "MI",
                  "90.67153179190751",
                  "4.124277456647399",
                  "1.0770231213872832",
                  "0.9541907514450867",
                  "3.5354046242774566"
                ],
                [
                  "23",
                  "MN",
                  "91.80022075055187",
                  "1.0007726269315673",
                  "3.363134657836645",
                  "1.0257174392935982",
                  "3.1538631346578367"
                ],
                [
                  "24",
                  "MO",
                  "90.44392614188533",
                  "5.8793974732750245",
                  "0.5443148688046647",
                  "0.5498542274052478",
                  "2.364820213799806"
                ],
                [
                  "25",
                  "MS",
                  "53.8",
                  "41.83397790055248",
                  "1.6146408839779005",
                  "0.5461325966850828",
                  "2.3218232044198897"
                ],
                [
                  "26",
                  "MT",
                  "84.47589041095891",
                  "0.22657534246575342",
                  "11.870958904109589",
                  "0.3189041095890411",
                  "2.192054794520548"
                ],
                [
                  "27",
                  "NC",
                  "71.51650879566982",
                  "20.40230040595399",
                  "1.7880920162381597",
                  "0.9262516914749662",
                  "6.412855209742896"
                ],
                [
                  "28",
                  "ND",
                  "92.29376558603492",
                  "0.357356608478803",
                  "5.329925187032419",
                  "0.29351620947630924",
                  "1.8229426433915212"
                ],
                [
                  "29",
                  "NE",
                  "94.71758620689654",
                  "0.42051724137931035",
                  "1.5598275862068964",
                  "0.291896551724138",
                  "4.070172413793103"
                ],
                [
                  "30",
                  "NH",
                  "95.68124999999999",
                  "0.7156250000000001",
                  "0.28750000000000003",
                  "1.3427083333333334",
                  "1.7447916666666667"
                ],
                [
                  "31",
                  "NJ",
                  "80.88954128440368",
                  "6.975045871559633",
                  "0.25706422018348624",
                  "5.944770642201835",
                  "11.122935779816514"
                ],
                [
                  "32",
                  "NM",
                  "65.41851015801355",
                  "0.6670428893905191",
                  "15.340406320541762",
                  "0.49390519187358917",
                  "45.434537246049665"
                ],
                [
                  "33",
                  "NV",
                  "82.3263565891473",
                  "1.5674418604651161",
                  "5.576744186046511",
                  "2.0069767441860464",
                  "13.173643410852714"
                ],
                [
                  "34",
                  "NY",
                  "88.87830109335576",
                  "4.007737594617326",
                  "0.3613120269133726",
                  "2.719343986543314",
                  "6.629184188393609"
                ],
                [
                  "35",
                  "OH",
                  "92.80406976744186",
                  "3.959966777408638",
                  "0.2150332225913621",
                  "0.7514950166112957",
                  "2.1303986710963456"
                ],
                [
                  "36",
                  "OK",
                  "72.92578444747612",
                  "3.376261937244202",
                  "14.382128240109141",
                  "0.4264665757162347",
                  "5.696452933151432"
                ],
                [
                  "37",
                  "OR",
                  "87.62553191489361",
                  "0.5295212765957447",
                  "2.5885638297872338",
                  "1.3824468085106383",
                  "9.77686170212766"
                ],
                [
                  "38",
                  "PA",
                  "93.25323129251701",
                  "3.270238095238095",
                  "0.16156462585034015",
                  "0.9890022675736961",
                  "2.7325396825396826"
                ],
                [
                  "39",
                  "RI",
                  "89.22647058823529",
                  "2.988235294117647",
                  "0.6705882352941177",
                  "1.688235294117647",
                  "6.667647058823529"
                ],
                [
                  "40",
                  "SC",
                  "61.97569620253165",
                  "32.834430379746834",
                  "0.4627848101265823",
                  "0.74",
                  "4.475443037974683"
                ],
                [
                  "41",
                  "SD",
                  "84.81769230769231",
                  "0.29",
                  "12.026666666666666",
                  "0.31794871794871793",
                  "2.036923076923077"
                ],
                [
                  "42",
                  "TN",
                  "88.94708624708625",
                  "7.302797202797203",
                  "0.31655011655011656",
                  "0.6372960372960372",
                  "2.8561771561771563"
                ],
                [
                  "43",
                  "TX",
                  "82.59193363844395",
                  "5.87974828375286",
                  "0.6588672768878718",
                  "1.0147597254004577",
                  "39.364874141876435"
                ],
                [
                  "44",
                  "UT",
                  "89.44325153374233",
                  "0.38496932515337423",
                  "3.8702453987730063",
                  "0.7708588957055215",
                  "7.663190184049079"
                ],
                [
                  "45",
                  "VA",
                  "74.59712351945855",
                  "16.51082910321489",
                  "0.34230118443316415",
                  "3.669035532994924",
                  "6.152961082910322"
                ],
                [
                  "46",
                  "VT",
                  "95.86638655462185",
                  "0.7705882352941177",
                  "0.3697478991596639",
                  "0.9100840336134454",
                  "1.3798319327731092"
                ],
                [
                  "47",
                  "WA",
                  "82.37595541401274",
                  "1.426592356687898",
                  "3.7503184713375792",
                  "3.0745222929936307",
                  "10.60843949044586"
                ],
                [
                  "48",
                  "WI",
                  "92.96054333764553",
                  "0.9372574385510997",
                  "2.6203104786545923",
                  "0.7908150064683053",
                  "3.3232858990944374"
                ],
                [
                  "49",
                  "WV",
                  "95.0354114713217",
                  "2.915211970074813",
                  "0.20024937655860348",
                  "0.3411471321695761",
                  "0.9042394014962594"
                ]
              ],
              "shape": {
                "columns": 6,
                "rows": 51
              }
            },
            "text/html": [
              "<div>\n",
              "<style scoped>\n",
              "    .dataframe tbody tr th:only-of-type {\n",
              "        vertical-align: middle;\n",
              "    }\n",
              "\n",
              "    .dataframe tbody tr th {\n",
              "        vertical-align: top;\n",
              "    }\n",
              "\n",
              "    .dataframe thead th {\n",
              "        text-align: right;\n",
              "    }\n",
              "</style>\n",
              "<table border=\"1\" class=\"dataframe\">\n",
              "  <thead>\n",
              "    <tr style=\"text-align: right;\">\n",
              "      <th></th>\n",
              "      <th>Geographic area</th>\n",
              "      <th>share_white</th>\n",
              "      <th>share_black</th>\n",
              "      <th>share_native_american</th>\n",
              "      <th>share_asian</th>\n",
              "      <th>share_hispanic</th>\n",
              "    </tr>\n",
              "  </thead>\n",
              "  <tbody>\n",
              "    <tr>\n",
              "      <th>0</th>\n",
              "      <td>AK</td>\n",
              "      <td>45.65</td>\n",
              "      <td>0.57</td>\n",
              "      <td>45.86</td>\n",
              "      <td>1.39</td>\n",
              "      <td>2.15</td>\n",
              "    </tr>\n",
              "    <tr>\n",
              "      <th>1</th>\n",
              "      <td>AL</td>\n",
              "      <td>72.51</td>\n",
              "      <td>23.32</td>\n",
              "      <td>0.66</td>\n",
              "      <td>0.48</td>\n",
              "      <td>2.98</td>\n",
              "    </tr>\n",
              "    <tr>\n",
              "      <th>2</th>\n",
              "      <td>AR</td>\n",
              "      <td>78.45</td>\n",
              "      <td>16.30</td>\n",
              "      <td>0.76</td>\n",
              "      <td>0.48</td>\n",
              "      <td>4.27</td>\n",
              "    </tr>\n",
              "    <tr>\n",
              "      <th>3</th>\n",
              "      <td>AZ</td>\n",
              "      <td>59.93</td>\n",
              "      <td>0.95</td>\n",
              "      <td>28.59</td>\n",
              "      <td>0.73</td>\n",
              "      <td>20.14</td>\n",
              "    </tr>\n",
              "    <tr>\n",
              "      <th>4</th>\n",
              "      <td>CA</td>\n",
              "      <td>71.87</td>\n",
              "      <td>2.69</td>\n",
              "      <td>1.72</td>\n",
              "      <td>5.57</td>\n",
              "      <td>29.65</td>\n",
              "    </tr>\n",
              "    <tr>\n",
              "      <th>5</th>\n",
              "      <td>CO</td>\n",
              "      <td>87.77</td>\n",
              "      <td>0.92</td>\n",
              "      <td>1.62</td>\n",
              "      <td>1.15</td>\n",
              "      <td>17.90</td>\n",
              "    </tr>\n",
              "    <tr>\n",
              "      <th>6</th>\n",
              "      <td>CT</td>\n",
              "      <td>86.11</td>\n",
              "      <td>4.99</td>\n",
              "      <td>0.66</td>\n",
              "      <td>2.99</td>\n",
              "      <td>7.98</td>\n",
              "    </tr>\n",
              "    <tr>\n",
              "      <th>7</th>\n",
              "      <td>DC</td>\n",
              "      <td>38.50</td>\n",
              "      <td>50.70</td>\n",
              "      <td>0.30</td>\n",
              "      <td>3.50</td>\n",
              "      <td>9.10</td>\n",
              "    </tr>\n",
              "    <tr>\n",
              "      <th>8</th>\n",
              "      <td>DE</td>\n",
              "      <td>76.25</td>\n",
              "      <td>15.39</td>\n",
              "      <td>0.52</td>\n",
              "      <td>2.00</td>\n",
              "      <td>7.42</td>\n",
              "    </tr>\n",
              "    <tr>\n",
              "      <th>9</th>\n",
              "      <td>FL</td>\n",
              "      <td>78.67</td>\n",
              "      <td>13.37</td>\n",
              "      <td>0.46</td>\n",
              "      <td>1.62</td>\n",
              "      <td>16.53</td>\n",
              "    </tr>\n",
              "    <tr>\n",
              "      <th>10</th>\n",
              "      <td>GA</td>\n",
              "      <td>62.59</td>\n",
              "      <td>30.63</td>\n",
              "      <td>0.30</td>\n",
              "      <td>1.49</td>\n",
              "      <td>6.42</td>\n",
              "    </tr>\n",
              "    <tr>\n",
              "      <th>11</th>\n",
              "      <td>HI</td>\n",
              "      <td>33.37</td>\n",
              "      <td>1.07</td>\n",
              "      <td>0.39</td>\n",
              "      <td>25.65</td>\n",
              "      <td>10.36</td>\n",
              "    </tr>\n",
              "    <tr>\n",
              "      <th>12</th>\n",
              "      <td>IA</td>\n",
              "      <td>96.71</td>\n",
              "      <td>0.56</td>\n",
              "      <td>0.27</td>\n",
              "      <td>0.40</td>\n",
              "      <td>2.82</td>\n",
              "    </tr>\n",
              "    <tr>\n",
              "      <th>13</th>\n",
              "      <td>ID</td>\n",
              "      <td>88.82</td>\n",
              "      <td>0.30</td>\n",
              "      <td>2.52</td>\n",
              "      <td>0.49</td>\n",
              "      <td>10.70</td>\n",
              "    </tr>\n",
              "    <tr>\n",
              "      <th>14</th>\n",
              "      <td>IL</td>\n",
              "      <td>90.36</td>\n",
              "      <td>4.70</td>\n",
              "      <td>0.26</td>\n",
              "      <td>1.34</td>\n",
              "      <td>5.17</td>\n",
              "    </tr>\n",
              "    <tr>\n",
              "      <th>15</th>\n",
              "      <td>IN</td>\n",
              "      <td>94.82</td>\n",
              "      <td>1.69</td>\n",
              "      <td>0.28</td>\n",
              "      <td>0.59</td>\n",
              "      <td>3.32</td>\n",
              "    </tr>\n",
              "    <tr>\n",
              "      <th>16</th>\n",
              "      <td>KS</td>\n",
              "      <td>92.96</td>\n",
              "      <td>0.96</td>\n",
              "      <td>1.87</td>\n",
              "      <td>0.43</td>\n",
              "      <td>5.07</td>\n",
              "    </tr>\n",
              "    <tr>\n",
              "      <th>17</th>\n",
              "      <td>KY</td>\n",
              "      <td>92.23</td>\n",
              "      <td>4.42</td>\n",
              "      <td>0.21</td>\n",
              "      <td>0.71</td>\n",
              "      <td>2.23</td>\n",
              "    </tr>\n",
              "    <tr>\n",
              "      <th>18</th>\n",
              "      <td>LA</td>\n",
              "      <td>64.81</td>\n",
              "      <td>30.78</td>\n",
              "      <td>0.96</td>\n",
              "      <td>0.79</td>\n",
              "      <td>2.98</td>\n",
              "    </tr>\n",
              "    <tr>\n",
              "      <th>19</th>\n",
              "      <td>MA</td>\n",
              "      <td>89.67</td>\n",
              "      <td>2.80</td>\n",
              "      <td>0.27</td>\n",
              "      <td>2.85</td>\n",
              "      <td>4.95</td>\n",
              "    </tr>\n",
              "    <tr>\n",
              "      <th>20</th>\n",
              "      <td>MD</td>\n",
              "      <td>72.12</td>\n",
              "      <td>19.46</td>\n",
              "      <td>0.34</td>\n",
              "      <td>2.98</td>\n",
              "      <td>5.93</td>\n",
              "    </tr>\n",
              "    <tr>\n",
              "      <th>21</th>\n",
              "      <td>ME</td>\n",
              "      <td>95.69</td>\n",
              "      <td>0.82</td>\n",
              "      <td>0.55</td>\n",
              "      <td>1.03</td>\n",
              "      <td>1.31</td>\n",
              "    </tr>\n",
              "    <tr>\n",
              "      <th>22</th>\n",
              "      <td>MI</td>\n",
              "      <td>90.67</td>\n",
              "      <td>4.12</td>\n",
              "      <td>1.08</td>\n",
              "      <td>0.95</td>\n",
              "      <td>3.54</td>\n",
              "    </tr>\n",
              "    <tr>\n",
              "      <th>23</th>\n",
              "      <td>MN</td>\n",
              "      <td>91.80</td>\n",
              "      <td>1.00</td>\n",
              "      <td>3.36</td>\n",
              "      <td>1.03</td>\n",
              "      <td>3.15</td>\n",
              "    </tr>\n",
              "    <tr>\n",
              "      <th>24</th>\n",
              "      <td>MO</td>\n",
              "      <td>90.44</td>\n",
              "      <td>5.88</td>\n",
              "      <td>0.54</td>\n",
              "      <td>0.55</td>\n",
              "      <td>2.36</td>\n",
              "    </tr>\n",
              "    <tr>\n",
              "      <th>25</th>\n",
              "      <td>MS</td>\n",
              "      <td>53.80</td>\n",
              "      <td>41.83</td>\n",
              "      <td>1.61</td>\n",
              "      <td>0.55</td>\n",
              "      <td>2.32</td>\n",
              "    </tr>\n",
              "    <tr>\n",
              "      <th>26</th>\n",
              "      <td>MT</td>\n",
              "      <td>84.48</td>\n",
              "      <td>0.23</td>\n",
              "      <td>11.87</td>\n",
              "      <td>0.32</td>\n",
              "      <td>2.19</td>\n",
              "    </tr>\n",
              "    <tr>\n",
              "      <th>27</th>\n",
              "      <td>NC</td>\n",
              "      <td>71.52</td>\n",
              "      <td>20.40</td>\n",
              "      <td>1.79</td>\n",
              "      <td>0.93</td>\n",
              "      <td>6.41</td>\n",
              "    </tr>\n",
              "    <tr>\n",
              "      <th>28</th>\n",
              "      <td>ND</td>\n",
              "      <td>92.29</td>\n",
              "      <td>0.36</td>\n",
              "      <td>5.33</td>\n",
              "      <td>0.29</td>\n",
              "      <td>1.82</td>\n",
              "    </tr>\n",
              "    <tr>\n",
              "      <th>29</th>\n",
              "      <td>NE</td>\n",
              "      <td>94.72</td>\n",
              "      <td>0.42</td>\n",
              "      <td>1.56</td>\n",
              "      <td>0.29</td>\n",
              "      <td>4.07</td>\n",
              "    </tr>\n",
              "    <tr>\n",
              "      <th>30</th>\n",
              "      <td>NH</td>\n",
              "      <td>95.68</td>\n",
              "      <td>0.72</td>\n",
              "      <td>0.29</td>\n",
              "      <td>1.34</td>\n",
              "      <td>1.74</td>\n",
              "    </tr>\n",
              "    <tr>\n",
              "      <th>31</th>\n",
              "      <td>NJ</td>\n",
              "      <td>80.89</td>\n",
              "      <td>6.98</td>\n",
              "      <td>0.26</td>\n",
              "      <td>5.94</td>\n",
              "      <td>11.12</td>\n",
              "    </tr>\n",
              "    <tr>\n",
              "      <th>32</th>\n",
              "      <td>NM</td>\n",
              "      <td>65.42</td>\n",
              "      <td>0.67</td>\n",
              "      <td>15.34</td>\n",
              "      <td>0.49</td>\n",
              "      <td>45.43</td>\n",
              "    </tr>\n",
              "    <tr>\n",
              "      <th>33</th>\n",
              "      <td>NV</td>\n",
              "      <td>82.33</td>\n",
              "      <td>1.57</td>\n",
              "      <td>5.58</td>\n",
              "      <td>2.01</td>\n",
              "      <td>13.17</td>\n",
              "    </tr>\n",
              "    <tr>\n",
              "      <th>34</th>\n",
              "      <td>NY</td>\n",
              "      <td>88.88</td>\n",
              "      <td>4.01</td>\n",
              "      <td>0.36</td>\n",
              "      <td>2.72</td>\n",
              "      <td>6.63</td>\n",
              "    </tr>\n",
              "    <tr>\n",
              "      <th>35</th>\n",
              "      <td>OH</td>\n",
              "      <td>92.80</td>\n",
              "      <td>3.96</td>\n",
              "      <td>0.22</td>\n",
              "      <td>0.75</td>\n",
              "      <td>2.13</td>\n",
              "    </tr>\n",
              "    <tr>\n",
              "      <th>36</th>\n",
              "      <td>OK</td>\n",
              "      <td>72.93</td>\n",
              "      <td>3.38</td>\n",
              "      <td>14.38</td>\n",
              "      <td>0.43</td>\n",
              "      <td>5.70</td>\n",
              "    </tr>\n",
              "    <tr>\n",
              "      <th>37</th>\n",
              "      <td>OR</td>\n",
              "      <td>87.63</td>\n",
              "      <td>0.53</td>\n",
              "      <td>2.59</td>\n",
              "      <td>1.38</td>\n",
              "      <td>9.78</td>\n",
              "    </tr>\n",
              "    <tr>\n",
              "      <th>38</th>\n",
              "      <td>PA</td>\n",
              "      <td>93.25</td>\n",
              "      <td>3.27</td>\n",
              "      <td>0.16</td>\n",
              "      <td>0.99</td>\n",
              "      <td>2.73</td>\n",
              "    </tr>\n",
              "    <tr>\n",
              "      <th>39</th>\n",
              "      <td>RI</td>\n",
              "      <td>89.23</td>\n",
              "      <td>2.99</td>\n",
              "      <td>0.67</td>\n",
              "      <td>1.69</td>\n",
              "      <td>6.67</td>\n",
              "    </tr>\n",
              "    <tr>\n",
              "      <th>40</th>\n",
              "      <td>SC</td>\n",
              "      <td>61.98</td>\n",
              "      <td>32.83</td>\n",
              "      <td>0.46</td>\n",
              "      <td>0.74</td>\n",
              "      <td>4.48</td>\n",
              "    </tr>\n",
              "    <tr>\n",
              "      <th>41</th>\n",
              "      <td>SD</td>\n",
              "      <td>84.82</td>\n",
              "      <td>0.29</td>\n",
              "      <td>12.03</td>\n",
              "      <td>0.32</td>\n",
              "      <td>2.04</td>\n",
              "    </tr>\n",
              "    <tr>\n",
              "      <th>42</th>\n",
              "      <td>TN</td>\n",
              "      <td>88.95</td>\n",
              "      <td>7.30</td>\n",
              "      <td>0.32</td>\n",
              "      <td>0.64</td>\n",
              "      <td>2.86</td>\n",
              "    </tr>\n",
              "    <tr>\n",
              "      <th>43</th>\n",
              "      <td>TX</td>\n",
              "      <td>82.59</td>\n",
              "      <td>5.88</td>\n",
              "      <td>0.66</td>\n",
              "      <td>1.01</td>\n",
              "      <td>39.36</td>\n",
              "    </tr>\n",
              "    <tr>\n",
              "      <th>44</th>\n",
              "      <td>UT</td>\n",
              "      <td>89.44</td>\n",
              "      <td>0.38</td>\n",
              "      <td>3.87</td>\n",
              "      <td>0.77</td>\n",
              "      <td>7.66</td>\n",
              "    </tr>\n",
              "    <tr>\n",
              "      <th>45</th>\n",
              "      <td>VA</td>\n",
              "      <td>74.60</td>\n",
              "      <td>16.51</td>\n",
              "      <td>0.34</td>\n",
              "      <td>3.67</td>\n",
              "      <td>6.15</td>\n",
              "    </tr>\n",
              "    <tr>\n",
              "      <th>46</th>\n",
              "      <td>VT</td>\n",
              "      <td>95.87</td>\n",
              "      <td>0.77</td>\n",
              "      <td>0.37</td>\n",
              "      <td>0.91</td>\n",
              "      <td>1.38</td>\n",
              "    </tr>\n",
              "    <tr>\n",
              "      <th>47</th>\n",
              "      <td>WA</td>\n",
              "      <td>82.38</td>\n",
              "      <td>1.43</td>\n",
              "      <td>3.75</td>\n",
              "      <td>3.07</td>\n",
              "      <td>10.61</td>\n",
              "    </tr>\n",
              "    <tr>\n",
              "      <th>48</th>\n",
              "      <td>WI</td>\n",
              "      <td>92.96</td>\n",
              "      <td>0.94</td>\n",
              "      <td>2.62</td>\n",
              "      <td>0.79</td>\n",
              "      <td>3.32</td>\n",
              "    </tr>\n",
              "    <tr>\n",
              "      <th>49</th>\n",
              "      <td>WV</td>\n",
              "      <td>95.04</td>\n",
              "      <td>2.92</td>\n",
              "      <td>0.20</td>\n",
              "      <td>0.34</td>\n",
              "      <td>0.90</td>\n",
              "    </tr>\n",
              "    <tr>\n",
              "      <th>50</th>\n",
              "      <td>WY</td>\n",
              "      <td>92.37</td>\n",
              "      <td>0.40</td>\n",
              "      <td>3.10</td>\n",
              "      <td>0.39</td>\n",
              "      <td>6.02</td>\n",
              "    </tr>\n",
              "  </tbody>\n",
              "</table>\n",
              "</div>"
            ],
            "text/plain": [
              "   Geographic area  share_white  share_black  share_native_american  \\\n",
              "0               AK        45.65         0.57                  45.86   \n",
              "1               AL        72.51        23.32                   0.66   \n",
              "2               AR        78.45        16.30                   0.76   \n",
              "3               AZ        59.93         0.95                  28.59   \n",
              "4               CA        71.87         2.69                   1.72   \n",
              "5               CO        87.77         0.92                   1.62   \n",
              "6               CT        86.11         4.99                   0.66   \n",
              "7               DC        38.50        50.70                   0.30   \n",
              "8               DE        76.25        15.39                   0.52   \n",
              "9               FL        78.67        13.37                   0.46   \n",
              "10              GA        62.59        30.63                   0.30   \n",
              "11              HI        33.37         1.07                   0.39   \n",
              "12              IA        96.71         0.56                   0.27   \n",
              "13              ID        88.82         0.30                   2.52   \n",
              "14              IL        90.36         4.70                   0.26   \n",
              "15              IN        94.82         1.69                   0.28   \n",
              "16              KS        92.96         0.96                   1.87   \n",
              "17              KY        92.23         4.42                   0.21   \n",
              "18              LA        64.81        30.78                   0.96   \n",
              "19              MA        89.67         2.80                   0.27   \n",
              "20              MD        72.12        19.46                   0.34   \n",
              "21              ME        95.69         0.82                   0.55   \n",
              "22              MI        90.67         4.12                   1.08   \n",
              "23              MN        91.80         1.00                   3.36   \n",
              "24              MO        90.44         5.88                   0.54   \n",
              "25              MS        53.80        41.83                   1.61   \n",
              "26              MT        84.48         0.23                  11.87   \n",
              "27              NC        71.52        20.40                   1.79   \n",
              "28              ND        92.29         0.36                   5.33   \n",
              "29              NE        94.72         0.42                   1.56   \n",
              "30              NH        95.68         0.72                   0.29   \n",
              "31              NJ        80.89         6.98                   0.26   \n",
              "32              NM        65.42         0.67                  15.34   \n",
              "33              NV        82.33         1.57                   5.58   \n",
              "34              NY        88.88         4.01                   0.36   \n",
              "35              OH        92.80         3.96                   0.22   \n",
              "36              OK        72.93         3.38                  14.38   \n",
              "37              OR        87.63         0.53                   2.59   \n",
              "38              PA        93.25         3.27                   0.16   \n",
              "39              RI        89.23         2.99                   0.67   \n",
              "40              SC        61.98        32.83                   0.46   \n",
              "41              SD        84.82         0.29                  12.03   \n",
              "42              TN        88.95         7.30                   0.32   \n",
              "43              TX        82.59         5.88                   0.66   \n",
              "44              UT        89.44         0.38                   3.87   \n",
              "45              VA        74.60        16.51                   0.34   \n",
              "46              VT        95.87         0.77                   0.37   \n",
              "47              WA        82.38         1.43                   3.75   \n",
              "48              WI        92.96         0.94                   2.62   \n",
              "49              WV        95.04         2.92                   0.20   \n",
              "50              WY        92.37         0.40                   3.10   \n",
              "\n",
              "    share_asian  share_hispanic  \n",
              "0          1.39            2.15  \n",
              "1          0.48            2.98  \n",
              "2          0.48            4.27  \n",
              "3          0.73           20.14  \n",
              "4          5.57           29.65  \n",
              "5          1.15           17.90  \n",
              "6          2.99            7.98  \n",
              "7          3.50            9.10  \n",
              "8          2.00            7.42  \n",
              "9          1.62           16.53  \n",
              "10         1.49            6.42  \n",
              "11        25.65           10.36  \n",
              "12         0.40            2.82  \n",
              "13         0.49           10.70  \n",
              "14         1.34            5.17  \n",
              "15         0.59            3.32  \n",
              "16         0.43            5.07  \n",
              "17         0.71            2.23  \n",
              "18         0.79            2.98  \n",
              "19         2.85            4.95  \n",
              "20         2.98            5.93  \n",
              "21         1.03            1.31  \n",
              "22         0.95            3.54  \n",
              "23         1.03            3.15  \n",
              "24         0.55            2.36  \n",
              "25         0.55            2.32  \n",
              "26         0.32            2.19  \n",
              "27         0.93            6.41  \n",
              "28         0.29            1.82  \n",
              "29         0.29            4.07  \n",
              "30         1.34            1.74  \n",
              "31         5.94           11.12  \n",
              "32         0.49           45.43  \n",
              "33         2.01           13.17  \n",
              "34         2.72            6.63  \n",
              "35         0.75            2.13  \n",
              "36         0.43            5.70  \n",
              "37         1.38            9.78  \n",
              "38         0.99            2.73  \n",
              "39         1.69            6.67  \n",
              "40         0.74            4.48  \n",
              "41         0.32            2.04  \n",
              "42         0.64            2.86  \n",
              "43         1.01           39.36  \n",
              "44         0.77            7.66  \n",
              "45         3.67            6.15  \n",
              "46         0.91            1.38  \n",
              "47         3.07           10.61  \n",
              "48         0.79            3.32  \n",
              "49         0.34            0.90  \n",
              "50         0.39            6.02  "
            ]
          },
          "execution_count": 19,
          "metadata": {},
          "output_type": "execute_result"
        }
      ],
      "source": [
        "# Transfer the share columns to numeric\n",
        "race_cols = [\"share_white\", \"share_black\", \"share_native_american\", \"share_asian\", \"share_hispanic\"]\n",
        "df_share_race_city[race_cols] = df_share_race_city[race_cols].apply(pd.to_numeric, errors=\"coerce\")\n",
        "\n",
        "df_state_race = df_share_race_city.groupby(\"Geographic area\")[race_cols].mean().reset_index()\n",
        "df_state_race"
      ]
    },
    {
      "cell_type": "code",
      "execution_count": 20,
      "metadata": {
        "id": "LqrimlLo09Na"
      },
      "outputs": [
        {
          "data": {
            "image/png": "[encoded data removed]",
            "text/plain": [
              "<Figure size 2000x1000 with 1 Axes>"
            ]
          },
          "metadata": {},
          "output_type": "display_data"
        }
      ],
      "source": [
        "states = df_state_race[\"Geographic area\"]\n",
        "x = np.arange(len(states))\n",
        "width = 0.8 # 1 means all bars are side by side.\n",
        "\n",
        "white = df_state_race.share_white\n",
        "black = df_state_race.share_black\n",
        "native = df_state_race.share_native_american\n",
        "asian = df_state_race.share_asian\n",
        "hispanic = df_state_race.share_hispanic\n",
        "\n",
        "plt.figure(figsize=(20,10))\n",
        "\n",
        "p1 = plt.bar(x=x, height=white, width=width, label=\"White\")\n",
        "p2 = plt.bar(x=x, height=black, width=width, bottom=white, label=\"Black\")\n",
        "p3 = plt.bar(x=x, height=native, width=width, bottom=white+black, label=\"Native\")\n",
        "p4 = plt.bar(x=x, height=asian, width=width, bottom=white+black+native, label=\"Asian\")\n",
        "p5 = plt.bar(x=x, height=hispanic, width=width, bottom=white+black+native+asian, label=\"Hispanic\")\n",
        "\n",
        "plt.xticks(ticks=x, labels=states, rotation=90)\n",
        "plt.ylabel(\"Population Share (%)\")\n",
        "plt.title(\"Population Share by Race in Each US State\")\n",
        "plt.legend()\n",
        "plt.tight_layout()\n",
        "plt.show()"
      ]
    },
    {
      "cell_type": "markdown",
      "metadata": {},
      "source": [
        "## The chart is not accurate because the difference in population is so huge in every city, and we can hardly calculate the correct ratio without the formal population statistics :("
      ]
    },
    {
      "cell_type": "markdown",
      "metadata": {
        "_uuid": "77493cfd86a031612be8fb8d60f27713e74e6d80",
        "id": "K7xvQXkjuRo7"
      },
      "source": [
        "# Create Donut Chart by of People Killed by Race\n",
        "\n",
        "Hint: Use `.value_counts()`"
      ]
    },
    {
      "cell_type": "code",
      "execution_count": 21,
      "metadata": {
        "id": "1nOafPdy1u9Z"
      },
      "outputs": [
        {
          "data": {
            "text/plain": [
              "race\n",
              "W          1201\n",
              "B           618\n",
              "H           423\n",
              "Missing     195\n",
              "A            39\n",
              "N            31\n",
              "O            28\n",
              "Name: count, dtype: int64"
            ]
          },
          "execution_count": 21,
          "metadata": {},
          "output_type": "execute_result"
        }
      ],
      "source": [
        "killed_by_race = df_fatalities.race.value_counts()\n",
        "killed_by_race"
      ]
    },
    {
      "cell_type": "code",
      "execution_count": 22,
      "metadata": {
        "id": "YN3hzJTe1vHJ"
      },
      "outputs": [
        {
          "data": {
            "image/png": "[encoded data removed]",
            "text/plain": [
              "<Figure size 640x480 with 1 Axes>"
            ]
          },
          "metadata": {},
          "output_type": "display_data"
        }
      ],
      "source": [
        "plt.pie(\n",
        "    killed_by_race.values,\n",
        "    labels=killed_by_race.index,\n",
        "    autopct=\"%1.1f%%\",\n",
        "    pctdistance=0.7,\n",
        "    labeldistance=1,\n",
        "    radius=2\n",
        ")\n",
        "\n",
        "center_circle = plt.Circle((0,0), radius=1, fc=\"white\")\n",
        "fig = plt.gcf() # get current figure\n",
        "fig.gca().add_artist(center_circle)\n",
        "\n",
        "plt.axis(\"equal\")\n",
        "plt.title(\"People Killed by Race\")\n",
        "plt.show()"
      ]
    },
    {
      "cell_type": "markdown",
      "metadata": {
        "id": "kr-8Rezn3Bep"
      },
      "source": [
        "# Create a Chart Comparing the Total Number of Deaths of Men and Women\n",
        "\n",
        "Use `df_fatalities` to illustrate how many more men are killed compared to women. "
      ]
    },
    {
      "cell_type": "code",
      "execution_count": 23,
      "metadata": {
        "id": "joH1L4303BsJ"
      },
      "outputs": [
        {
          "data": {
            "application/vnd.microsoft.datawrangler.viewer.v0+json": {
              "columns": [
                {
                  "name": "index",
                  "rawType": "int64",
                  "type": "integer"
                },
                {
                  "name": "gender",
                  "rawType": "object",
                  "type": "string"
                },
                {
                  "name": "death",
                  "rawType": "int64",
                  "type": "integer"
                }
              ],
              "ref": "9d4eb477-f98a-49b8-8908-313d4547644a",
              "rows": [
                [
                  "0",
                  "F",
                  "107"
                ],
                [
                  "1",
                  "M",
                  "2428"
                ]
              ],
              "shape": {
                "columns": 2,
                "rows": 2
              }
            },
            "text/html": [
              "<div>\n",
              "<style scoped>\n",
              "    .dataframe tbody tr th:only-of-type {\n",
              "        vertical-align: middle;\n",
              "    }\n",
              "\n",
              "    .dataframe tbody tr th {\n",
              "        vertical-align: top;\n",
              "    }\n",
              "\n",
              "    .dataframe thead th {\n",
              "        text-align: right;\n",
              "    }\n",
              "</style>\n",
              "<table border=\"1\" class=\"dataframe\">\n",
              "  <thead>\n",
              "    <tr style=\"text-align: right;\">\n",
              "      <th></th>\n",
              "      <th>gender</th>\n",
              "      <th>death</th>\n",
              "    </tr>\n",
              "  </thead>\n",
              "  <tbody>\n",
              "    <tr>\n",
              "      <th>0</th>\n",
              "      <td>F</td>\n",
              "      <td>107</td>\n",
              "    </tr>\n",
              "    <tr>\n",
              "      <th>1</th>\n",
              "      <td>M</td>\n",
              "      <td>2428</td>\n",
              "    </tr>\n",
              "  </tbody>\n",
              "</table>\n",
              "</div>"
            ],
            "text/plain": [
              "  gender  death\n",
              "0      F    107\n",
              "1      M   2428"
            ]
          },
          "execution_count": 23,
          "metadata": {},
          "output_type": "execute_result"
        }
      ],
      "source": [
        "men_women_death = df_fatalities.groupby(\"gender\")[\"id\"].count().reset_index(name=\"death\")\n",
        "men_women_death"
      ]
    },
    {
      "cell_type": "code",
      "execution_count": 24,
      "metadata": {
        "id": "X4MrMkVa3MTk"
      },
      "outputs": [
        {
          "data": {
            "image/png": "[encoded data removed]",
            "text/plain": [
              "<Figure size 640x480 with 1 Axes>"
            ]
          },
          "metadata": {},
          "output_type": "display_data"
        }
      ],
      "source": [
        "sns.barplot(data=men_women_death, x=\"gender\", y=\"death\", hue=\"gender\", palette=[\"red\", \"blue\"], legend=False)\n",
        "plt.title(\"Total Number of Deaths by Gender\", fontsize=18)\n",
        "plt.xlabel(\"Gender\", fontsize=14)\n",
        "plt.ylabel(\"Deaths\", fontsize=14)\n",
        "plt.show()"
      ]
    },
    {
      "cell_type": "markdown",
      "metadata": {
        "_uuid": "cd1531c8421bfb6967cebf7039056779f9b960a6",
        "id": "ZxbBdvM0uRpQ"
      },
      "source": [
        "# Create a Box Plot Showing the Age and Manner of Death\n",
        "\n",
        "Break out the data by gender using `df_fatalities`. Is there a difference between men and women in the manner of death? "
      ]
    },
    {
      "cell_type": "code",
      "execution_count": 25,
      "metadata": {
        "id": "WdPPZLJY2shA"
      },
      "outputs": [
        {
          "data": {
            "application/vnd.microsoft.datawrangler.viewer.v0+json": {
              "columns": [
                {
                  "name": "index",
                  "rawType": "int64",
                  "type": "integer"
                },
                {
                  "name": "id",
                  "rawType": "int64",
                  "type": "integer"
                },
                {
                  "name": "name",
                  "rawType": "object",
                  "type": "string"
                },
                {
                  "name": "date",
                  "rawType": "object",
                  "type": "string"
                },
                {
                  "name": "manner_of_death",
                  "rawType": "object",
                  "type": "string"
                },
                {
                  "name": "armed",
                  "rawType": "object",
                  "type": "string"
                },
                {
                  "name": "age",
                  "rawType": "float64",
                  "type": "float"
                },
                {
                  "name": "gender",
                  "rawType": "object",
                  "type": "string"
                },
                {
                  "name": "race",
                  "rawType": "object",
                  "type": "string"
                },
                {
                  "name": "city",
                  "rawType": "object",
                  "type": "string"
                },
                {
                  "name": "state",
                  "rawType": "object",
                  "type": "string"
                },
                {
                  "name": "signs_of_mental_illness",
                  "rawType": "bool",
                  "type": "boolean"
                },
                {
                  "name": "threat_level",
                  "rawType": "object",
                  "type": "string"
                },
                {
                  "name": "flee",
                  "rawType": "object",
                  "type": "string"
                },
                {
                  "name": "body_camera",
                  "rawType": "bool",
                  "type": "boolean"
                }
              ],
              "ref": "f47119ae-3770-4a2a-b5cb-300b350966da",
              "rows": [
                [
                  "0",
                  "3",
                  "Tim Elliot",
                  "02/01/15",
                  "shot",
                  "gun",
                  "53.0",
                  "M",
                  "A",
                  "Shelton",
                  "WA",
                  "True",
                  "attack",
                  "Not fleeing",
                  "False"
                ],
                [
                  "1",
                  "4",
                  "Lewis Lee Lembke",
                  "02/01/15",
                  "shot",
                  "gun",
                  "47.0",
                  "M",
                  "W",
                  "Aloha",
                  "OR",
                  "False",
                  "attack",
                  "Not fleeing",
                  "False"
                ],
                [
                  "2",
                  "5",
                  "John Paul Quintero",
                  "03/01/15",
                  "shot and Tasered",
                  "unarmed",
                  "23.0",
                  "M",
                  "H",
                  "Wichita",
                  "KS",
                  "False",
                  "other",
                  "Not fleeing",
                  "False"
                ],
                [
                  "3",
                  "8",
                  "Matthew Hoffman",
                  "04/01/15",
                  "shot",
                  "toy weapon",
                  "32.0",
                  "M",
                  "W",
                  "San Francisco",
                  "CA",
                  "True",
                  "attack",
                  "Not fleeing",
                  "False"
                ],
                [
                  "4",
                  "9",
                  "Michael Rodriguez",
                  "04/01/15",
                  "shot",
                  "nail gun",
                  "39.0",
                  "M",
                  "H",
                  "Evans",
                  "CO",
                  "False",
                  "attack",
                  "Not fleeing",
                  "False"
                ],
                [
                  "5",
                  "11",
                  "Kenneth Joe Brown",
                  "04/01/15",
                  "shot",
                  "gun",
                  "18.0",
                  "M",
                  "W",
                  "Guthrie",
                  "OK",
                  "False",
                  "attack",
                  "Not fleeing",
                  "False"
                ],
                [
                  "6",
                  "13",
                  "Kenneth Arnold Buck",
                  "05/01/15",
                  "shot",
                  "gun",
                  "22.0",
                  "M",
                  "H",
                  "Chandler",
                  "AZ",
                  "False",
                  "attack",
                  "Car",
                  "False"
                ],
                [
                  "7",
                  "15",
                  "Brock Nichols",
                  "06/01/15",
                  "shot",
                  "gun",
                  "35.0",
                  "M",
                  "W",
                  "Assaria",
                  "KS",
                  "False",
                  "attack",
                  "Not fleeing",
                  "False"
                ],
                [
                  "8",
                  "16",
                  "Autumn Steele",
                  "06/01/15",
                  "shot",
                  "unarmed",
                  "34.0",
                  "F",
                  "W",
                  "Burlington",
                  "IA",
                  "False",
                  "other",
                  "Not fleeing",
                  "True"
                ],
                [
                  "9",
                  "17",
                  "Leslie Sapp III",
                  "06/01/15",
                  "shot",
                  "toy weapon",
                  "47.0",
                  "M",
                  "B",
                  "Knoxville",
                  "PA",
                  "False",
                  "attack",
                  "Not fleeing",
                  "False"
                ],
                [
                  "10",
                  "19",
                  "Patrick Wetter",
                  "06/01/15",
                  "shot and Tasered",
                  "knife",
                  "25.0",
                  "M",
                  "W",
                  "Stockton",
                  "CA",
                  "False",
                  "attack",
                  "Not fleeing",
                  "False"
                ],
                [
                  "11",
                  "21",
                  "Ron Sneed",
                  "07/01/15",
                  "shot",
                  "gun",
                  "31.0",
                  "M",
                  "B",
                  "Freeport",
                  "TX",
                  "False",
                  "attack",
                  "Not fleeing",
                  "False"
                ],
                [
                  "12",
                  "22",
                  "Hashim Hanif Ibn Abdul-Rasheed",
                  "07/01/15",
                  "shot",
                  "knife",
                  "41.0",
                  "M",
                  "B",
                  "Columbus",
                  "OH",
                  "True",
                  "other",
                  "Not fleeing",
                  "False"
                ],
                [
                  "13",
                  "25",
                  "Nicholas Ryan Brickman",
                  "07/01/15",
                  "shot",
                  "gun",
                  "30.0",
                  "M",
                  "W",
                  "Des Moines",
                  "IA",
                  "False",
                  "attack",
                  "Car",
                  "False"
                ],
                [
                  "14",
                  "27",
                  "Omarr Julian Maximillian Jackson",
                  "07/01/15",
                  "shot",
                  "gun",
                  "37.0",
                  "M",
                  "B",
                  "New Orleans",
                  "LA",
                  "False",
                  "attack",
                  "Foot",
                  "True"
                ],
                [
                  "15",
                  "29",
                  "Loren Simpson",
                  "08/01/15",
                  "shot",
                  "vehicle",
                  "28.0",
                  "M",
                  "W",
                  "Huntley",
                  "MT",
                  "False",
                  "undetermined",
                  "Not fleeing",
                  "False"
                ],
                [
                  "16",
                  "32",
                  "James Dudley Barker",
                  "08/01/15",
                  "shot",
                  "shovel",
                  "42.0",
                  "M",
                  "W",
                  "Salt Lake City",
                  "UT",
                  "False",
                  "attack",
                  "Not fleeing",
                  "True"
                ],
                [
                  "17",
                  "36",
                  "Artago Damon Howard",
                  "08/01/15",
                  "shot",
                  "unarmed",
                  "36.0",
                  "M",
                  "B",
                  "Strong",
                  "AR",
                  "False",
                  "attack",
                  "Not fleeing",
                  "False"
                ],
                [
                  "18",
                  "37",
                  "Thomas Hamby",
                  "08/01/15",
                  "shot",
                  "gun",
                  "49.0",
                  "M",
                  "W",
                  "Syracuse",
                  "UT",
                  "False",
                  "attack",
                  "Not fleeing",
                  "True"
                ],
                [
                  "19",
                  "38",
                  "Jimmy Foreman",
                  "09/01/15",
                  "shot",
                  "gun",
                  "71.0",
                  "M",
                  "W",
                  "England",
                  "AR",
                  "False",
                  "attack",
                  "Not fleeing",
                  "False"
                ],
                [
                  "20",
                  "325",
                  "Andy Martinez",
                  "09/01/15",
                  "shot",
                  "gun",
                  "33.0",
                  "M",
                  "H",
                  "El Paso",
                  "TX",
                  "False",
                  "attack",
                  "Not fleeing",
                  "False"
                ],
                [
                  "21",
                  "42",
                  "Tommy Smith",
                  "11/01/15",
                  "shot",
                  "gun",
                  "39.0",
                  "M",
                  "W",
                  "Arcola",
                  "IL",
                  "True",
                  "attack",
                  "Not fleeing",
                  "False"
                ],
                [
                  "22",
                  "43",
                  "Brian  Barbosa",
                  "11/01/15",
                  "shot",
                  "gun",
                  "23.0",
                  "M",
                  "H",
                  "South Gate",
                  "CA",
                  "False",
                  "attack",
                  "Not fleeing",
                  "False"
                ],
                [
                  "23",
                  "45",
                  "Salvador Figueroa",
                  "11/01/15",
                  "shot and Tasered",
                  "gun",
                  "29.0",
                  "M",
                  "H",
                  "North Las Vegas",
                  "NV",
                  "False",
                  "attack",
                  "Foot",
                  "False"
                ],
                [
                  "24",
                  "46",
                  "John Edward O'Keefe",
                  "13/01/15",
                  "shot",
                  "gun",
                  "34.0",
                  "M",
                  "W",
                  "Albuquerque",
                  "NM",
                  "False",
                  "attack",
                  "Foot",
                  "True"
                ],
                [
                  "25",
                  "48",
                  "Richard McClendon",
                  "13/01/15",
                  "shot",
                  "knife",
                  "43.0",
                  "M",
                  "W",
                  "Jourdanton",
                  "TX",
                  "True",
                  "other",
                  "Not fleeing",
                  "False"
                ],
                [
                  "26",
                  "49",
                  "Marcus Golden",
                  "14/01/15",
                  "shot",
                  "vehicle",
                  "24.0",
                  "M",
                  "B",
                  "St. Paul",
                  "MN",
                  "False",
                  "attack",
                  "Not fleeing",
                  "False"
                ],
                [
                  "27",
                  "50",
                  "Michael Goebel",
                  "14/01/15",
                  "shot",
                  "vehicle",
                  "29.0",
                  "M",
                  "W",
                  "Franklin County",
                  "MO",
                  "False",
                  "attack",
                  "Not fleeing",
                  "False"
                ],
                [
                  "28",
                  "51",
                  "Mario Jordan",
                  "14/01/15",
                  "shot",
                  "gun",
                  "34.0",
                  "M",
                  "B",
                  "Chesapeake",
                  "VA",
                  "True",
                  "attack",
                  "Not fleeing",
                  "False"
                ],
                [
                  "29",
                  "52",
                  "Talbot Schroeder",
                  "14/01/15",
                  "shot",
                  "knife",
                  "75.0",
                  "M",
                  "W",
                  "Old Bridge",
                  "NJ",
                  "False",
                  "attack",
                  "Not fleeing",
                  "False"
                ],
                [
                  "30",
                  "54",
                  "Robert Edwards",
                  "14/01/15",
                  "shot",
                  "gun",
                  "68.0",
                  "M",
                  "W",
                  "Lake Jackson",
                  "TX",
                  "False",
                  "attack",
                  "Not fleeing",
                  "False"
                ],
                [
                  "31",
                  "55",
                  "Jeffrey R. Nielson",
                  "14/01/15",
                  "shot",
                  "knife",
                  "34.0",
                  "M",
                  "W",
                  "Draper",
                  "UT",
                  "False",
                  "attack",
                  "Not fleeing",
                  "True"
                ],
                [
                  "32",
                  "56",
                  "Donte Sowell",
                  "15/01/15",
                  "shot",
                  "gun",
                  "27.0",
                  "M",
                  "B",
                  "Indianapolis",
                  "IN",
                  "False",
                  "attack",
                  "Foot",
                  "False"
                ],
                [
                  "33",
                  "57",
                  "Kavonda Earl Payton",
                  "15/01/15",
                  "shot",
                  "gun",
                  "39.0",
                  "M",
                  "B",
                  "Aurora",
                  "CO",
                  "False",
                  "attack",
                  "Not fleeing",
                  "False"
                ],
                [
                  "34",
                  "60",
                  "Quincy Reed Reindl",
                  "15/01/15",
                  "shot",
                  "gun",
                  "24.0",
                  "M",
                  "W",
                  "Bloomington",
                  "MN",
                  "True",
                  "attack",
                  "Not fleeing",
                  "False"
                ],
                [
                  "35",
                  "63",
                  "Jose Ceja",
                  "15/01/15",
                  "shot",
                  "knife",
                  "36.0",
                  "M",
                  "H",
                  "Fairfield",
                  "CA",
                  "True",
                  "other",
                  "Not fleeing",
                  "False"
                ],
                [
                  "36",
                  "64",
                  "Nathan Massey",
                  "15/01/15",
                  "shot",
                  "gun",
                  "33.0",
                  "M",
                  "W",
                  "Evangeline Parish",
                  "LA",
                  "False",
                  "attack",
                  "Not fleeing",
                  "False"
                ],
                [
                  "37",
                  "67",
                  "Scott Hall",
                  "16/01/15",
                  "shot",
                  "gun",
                  "41.0",
                  "M",
                  "W",
                  "Mabank",
                  "TX",
                  "False",
                  "attack",
                  "Car",
                  "False"
                ],
                [
                  "38",
                  "68",
                  "Zaki Shinwary",
                  "16/01/15",
                  "shot and Tasered",
                  "knife",
                  "48.0",
                  "M",
                  "O",
                  "Fremont",
                  "CA",
                  "False",
                  "other",
                  "Not fleeing",
                  "False"
                ],
                [
                  "39",
                  "74",
                  "Terence Walker",
                  "17/01/15",
                  "shot",
                  "gun",
                  "21.0",
                  "M",
                  "B",
                  "Muskogee",
                  "OK",
                  "False",
                  "attack",
                  "Foot",
                  "True"
                ],
                [
                  "40",
                  "75",
                  "Pablo Meza",
                  "17/01/15",
                  "shot",
                  "gun",
                  "24.0",
                  "M",
                  "H",
                  "Los Angeles",
                  "CA",
                  "False",
                  "attack",
                  "Not fleeing",
                  "False"
                ],
                [
                  "41",
                  "78",
                  "Daniel Brumley",
                  "17/01/15",
                  "shot",
                  "knife",
                  "27.0",
                  "M",
                  "H",
                  "Fort Worth",
                  "TX",
                  "False",
                  "attack",
                  "Not fleeing",
                  "False"
                ],
                [
                  "42",
                  "80",
                  "Jonathan Guillory",
                  "18/01/15",
                  "shot",
                  "gun",
                  "32.0",
                  "M",
                  "W",
                  "Maricopa",
                  "AZ",
                  "True",
                  "attack",
                  "Not fleeing",
                  "False"
                ],
                [
                  "43",
                  "83",
                  "Carter Castle",
                  "18/01/15",
                  "shot and Tasered",
                  "gun",
                  "67.0",
                  "M",
                  "W",
                  "Gunlock",
                  "KY",
                  "True",
                  "attack",
                  "Not fleeing",
                  "False"
                ],
                [
                  "44",
                  "84",
                  "Paul Campbell",
                  "19/01/15",
                  "shot",
                  "knife",
                  "49.0",
                  "M",
                  "W",
                  "Weymouth",
                  "MA",
                  "False",
                  "attack",
                  "Not fleeing",
                  "False"
                ],
                [
                  "45",
                  "85",
                  "Dewayne Carr",
                  "20/01/15",
                  "shot",
                  "vehicle",
                  "42.0",
                  "M",
                  "B",
                  "Scottsdale",
                  "AZ",
                  "False",
                  "other",
                  "Car",
                  "False"
                ],
                [
                  "46",
                  "86",
                  "Todd Allen Hodge",
                  "21/01/15",
                  "shot",
                  "gun",
                  "36.0",
                  "M",
                  "W",
                  "Hemet",
                  "CA",
                  "False",
                  "attack",
                  "Not fleeing",
                  "False"
                ],
                [
                  "47",
                  "88",
                  "Miguel Angel de Santos-Rodriguez",
                  "21/01/15",
                  "shot",
                  "gun",
                  "36.0",
                  "M",
                  "H",
                  "Chapeno",
                  "TX",
                  "False",
                  "attack",
                  "Foot",
                  "False"
                ],
                [
                  "48",
                  "90",
                  "Isaac Holmes",
                  "21/01/15",
                  "shot",
                  "gun",
                  "19.0",
                  "M",
                  "B",
                  "St. Louis",
                  "MO",
                  "False",
                  "attack",
                  "Not fleeing",
                  "False"
                ],
                [
                  "49",
                  "98",
                  "Andrew Toto",
                  "21/01/15",
                  "shot",
                  "gun",
                  "54.0",
                  "M",
                  "W",
                  "Derry",
                  "NH",
                  "True",
                  "attack",
                  "Not fleeing",
                  "False"
                ]
              ],
              "shape": {
                "columns": 14,
                "rows": 2535
              }
            },
            "text/html": [
              "<div>\n",
              "<style scoped>\n",
              "    .dataframe tbody tr th:only-of-type {\n",
              "        vertical-align: middle;\n",
              "    }\n",
              "\n",
              "    .dataframe tbody tr th {\n",
              "        vertical-align: top;\n",
              "    }\n",
              "\n",
              "    .dataframe thead th {\n",
              "        text-align: right;\n",
              "    }\n",
              "</style>\n",
              "<table border=\"1\" class=\"dataframe\">\n",
              "  <thead>\n",
              "    <tr style=\"text-align: right;\">\n",
              "      <th></th>\n",
              "      <th>id</th>\n",
              "      <th>name</th>\n",
              "      <th>date</th>\n",
              "      <th>manner_of_death</th>\n",
              "      <th>armed</th>\n",
              "      <th>age</th>\n",
              "      <th>gender</th>\n",
              "      <th>race</th>\n",
              "      <th>city</th>\n",
              "      <th>state</th>\n",
              "      <th>signs_of_mental_illness</th>\n",
              "      <th>threat_level</th>\n",
              "      <th>flee</th>\n",
              "      <th>body_camera</th>\n",
              "    </tr>\n",
              "  </thead>\n",
              "  <tbody>\n",
              "    <tr>\n",
              "      <th>0</th>\n",
              "      <td>3</td>\n",
              "      <td>Tim Elliot</td>\n",
              "      <td>02/01/15</td>\n",
              "      <td>shot</td>\n",
              "      <td>gun</td>\n",
              "      <td>53.00</td>\n",
              "      <td>M</td>\n",
              "      <td>A</td>\n",
              "      <td>Shelton</td>\n",
              "      <td>WA</td>\n",
              "      <td>True</td>\n",
              "      <td>attack</td>\n",
              "      <td>Not fleeing</td>\n",
              "      <td>False</td>\n",
              "    </tr>\n",
              "    <tr>\n",
              "      <th>1</th>\n",
              "      <td>4</td>\n",
              "      <td>Lewis Lee Lembke</td>\n",
              "      <td>02/01/15</td>\n",
              "      <td>shot</td>\n",
              "      <td>gun</td>\n",
              "      <td>47.00</td>\n",
              "      <td>M</td>\n",
              "      <td>W</td>\n",
              "      <td>Aloha</td>\n",
              "      <td>OR</td>\n",
              "      <td>False</td>\n",
              "      <td>attack</td>\n",
              "      <td>Not fleeing</td>\n",
              "      <td>False</td>\n",
              "    </tr>\n",
              "    <tr>\n",
              "      <th>2</th>\n",
              "      <td>5</td>\n",
              "      <td>John Paul Quintero</td>\n",
              "      <td>03/01/15</td>\n",
              "      <td>shot and Tasered</td>\n",
              "      <td>unarmed</td>\n",
              "      <td>23.00</td>\n",
              "      <td>M</td>\n",
              "      <td>H</td>\n",
              "      <td>Wichita</td>\n",
              "      <td>KS</td>\n",
              "      <td>False</td>\n",
              "      <td>other</td>\n",
              "      <td>Not fleeing</td>\n",
              "      <td>False</td>\n",
              "    </tr>\n",
              "    <tr>\n",
              "      <th>3</th>\n",
              "      <td>8</td>\n",
              "      <td>Matthew Hoffman</td>\n",
              "      <td>04/01/15</td>\n",
              "      <td>shot</td>\n",
              "      <td>toy weapon</td>\n",
              "      <td>32.00</td>\n",
              "      <td>M</td>\n",
              "      <td>W</td>\n",
              "      <td>San Francisco</td>\n",
              "      <td>CA</td>\n",
              "      <td>True</td>\n",
              "      <td>attack</td>\n",
              "      <td>Not fleeing</td>\n",
              "      <td>False</td>\n",
              "    </tr>\n",
              "    <tr>\n",
              "      <th>4</th>\n",
              "      <td>9</td>\n",
              "      <td>Michael Rodriguez</td>\n",
              "      <td>04/01/15</td>\n",
              "      <td>shot</td>\n",
              "      <td>nail gun</td>\n",
              "      <td>39.00</td>\n",
              "      <td>M</td>\n",
              "      <td>H</td>\n",
              "      <td>Evans</td>\n",
              "      <td>CO</td>\n",
              "      <td>False</td>\n",
              "      <td>attack</td>\n",
              "      <td>Not fleeing</td>\n",
              "      <td>False</td>\n",
              "    </tr>\n",
              "    <tr>\n",
              "      <th>...</th>\n",
              "      <td>...</td>\n",
              "      <td>...</td>\n",
              "      <td>...</td>\n",
              "      <td>...</td>\n",
              "      <td>...</td>\n",
              "      <td>...</td>\n",
              "      <td>...</td>\n",
              "      <td>...</td>\n",
              "      <td>...</td>\n",
              "      <td>...</td>\n",
              "      <td>...</td>\n",
              "      <td>...</td>\n",
              "      <td>...</td>\n",
              "      <td>...</td>\n",
              "    </tr>\n",
              "    <tr>\n",
              "      <th>2530</th>\n",
              "      <td>2822</td>\n",
              "      <td>Rodney E. Jacobs</td>\n",
              "      <td>28/07/17</td>\n",
              "      <td>shot</td>\n",
              "      <td>gun</td>\n",
              "      <td>31.00</td>\n",
              "      <td>M</td>\n",
              "      <td>Missing</td>\n",
              "      <td>Kansas City</td>\n",
              "      <td>MO</td>\n",
              "      <td>False</td>\n",
              "      <td>attack</td>\n",
              "      <td>Not fleeing</td>\n",
              "      <td>False</td>\n",
              "    </tr>\n",
              "    <tr>\n",
              "      <th>2531</th>\n",
              "      <td>2813</td>\n",
              "      <td>TK TK</td>\n",
              "      <td>28/07/17</td>\n",
              "      <td>shot</td>\n",
              "      <td>vehicle</td>\n",
              "      <td>0.00</td>\n",
              "      <td>M</td>\n",
              "      <td>Missing</td>\n",
              "      <td>Albuquerque</td>\n",
              "      <td>NM</td>\n",
              "      <td>False</td>\n",
              "      <td>attack</td>\n",
              "      <td>Car</td>\n",
              "      <td>False</td>\n",
              "    </tr>\n",
              "    <tr>\n",
              "      <th>2532</th>\n",
              "      <td>2818</td>\n",
              "      <td>Dennis W. Robinson</td>\n",
              "      <td>29/07/17</td>\n",
              "      <td>shot</td>\n",
              "      <td>gun</td>\n",
              "      <td>48.00</td>\n",
              "      <td>M</td>\n",
              "      <td>Missing</td>\n",
              "      <td>Melba</td>\n",
              "      <td>ID</td>\n",
              "      <td>False</td>\n",
              "      <td>attack</td>\n",
              "      <td>Car</td>\n",
              "      <td>False</td>\n",
              "    </tr>\n",
              "    <tr>\n",
              "      <th>2533</th>\n",
              "      <td>2817</td>\n",
              "      <td>Isaiah Tucker</td>\n",
              "      <td>31/07/17</td>\n",
              "      <td>shot</td>\n",
              "      <td>vehicle</td>\n",
              "      <td>28.00</td>\n",
              "      <td>M</td>\n",
              "      <td>B</td>\n",
              "      <td>Oshkosh</td>\n",
              "      <td>WI</td>\n",
              "      <td>False</td>\n",
              "      <td>attack</td>\n",
              "      <td>Car</td>\n",
              "      <td>True</td>\n",
              "    </tr>\n",
              "    <tr>\n",
              "      <th>2534</th>\n",
              "      <td>2815</td>\n",
              "      <td>Dwayne Jeune</td>\n",
              "      <td>31/07/17</td>\n",
              "      <td>shot</td>\n",
              "      <td>knife</td>\n",
              "      <td>32.00</td>\n",
              "      <td>M</td>\n",
              "      <td>B</td>\n",
              "      <td>Brooklyn</td>\n",
              "      <td>NY</td>\n",
              "      <td>True</td>\n",
              "      <td>attack</td>\n",
              "      <td>Not fleeing</td>\n",
              "      <td>False</td>\n",
              "    </tr>\n",
              "  </tbody>\n",
              "</table>\n",
              "<p>2535 rows × 14 columns</p>\n",
              "</div>"
            ],
            "text/plain": [
              "        id                name      date   manner_of_death       armed   age  \\\n",
              "0        3          Tim Elliot  02/01/15              shot         gun 53.00   \n",
              "1        4    Lewis Lee Lembke  02/01/15              shot         gun 47.00   \n",
              "2        5  John Paul Quintero  03/01/15  shot and Tasered     unarmed 23.00   \n",
              "3        8     Matthew Hoffman  04/01/15              shot  toy weapon 32.00   \n",
              "4        9   Michael Rodriguez  04/01/15              shot    nail gun 39.00   \n",
              "...    ...                 ...       ...               ...         ...   ...   \n",
              "2530  2822    Rodney E. Jacobs  28/07/17              shot         gun 31.00   \n",
              "2531  2813               TK TK  28/07/17              shot     vehicle  0.00   \n",
              "2532  2818  Dennis W. Robinson  29/07/17              shot         gun 48.00   \n",
              "2533  2817       Isaiah Tucker  31/07/17              shot     vehicle 28.00   \n",
              "2534  2815        Dwayne Jeune  31/07/17              shot       knife 32.00   \n",
              "\n",
              "     gender     race           city state  signs_of_mental_illness  \\\n",
              "0         M        A        Shelton    WA                     True   \n",
              "1         M        W          Aloha    OR                    False   \n",
              "2         M        H        Wichita    KS                    False   \n",
              "3         M        W  San Francisco    CA                     True   \n",
              "4         M        H          Evans    CO                    False   \n",
              "...     ...      ...            ...   ...                      ...   \n",
              "2530      M  Missing    Kansas City    MO                    False   \n",
              "2531      M  Missing    Albuquerque    NM                    False   \n",
              "2532      M  Missing          Melba    ID                    False   \n",
              "2533      M        B        Oshkosh    WI                    False   \n",
              "2534      M        B       Brooklyn    NY                     True   \n",
              "\n",
              "     threat_level         flee  body_camera  \n",
              "0          attack  Not fleeing        False  \n",
              "1          attack  Not fleeing        False  \n",
              "2           other  Not fleeing        False  \n",
              "3          attack  Not fleeing        False  \n",
              "4          attack  Not fleeing        False  \n",
              "...           ...          ...          ...  \n",
              "2530       attack  Not fleeing        False  \n",
              "2531       attack          Car        False  \n",
              "2532       attack          Car        False  \n",
              "2533       attack          Car         True  \n",
              "2534       attack  Not fleeing        False  \n",
              "\n",
              "[2535 rows x 14 columns]"
            ]
          },
          "execution_count": 25,
          "metadata": {},
          "output_type": "execute_result"
        }
      ],
      "source": [
        "df_age_manner_of_death = df_fatalities.dropna(subset=[\"age\", \"gender\", \"manner_of_death\"])\n",
        "df_age_manner_of_death"
      ]
    },
    {
      "cell_type": "code",
      "execution_count": 26,
      "metadata": {
        "id": "EnFbXlRm3XK6"
      },
      "outputs": [
        {
          "data": {
            "image/png": "[encoded data removed]",
            "text/plain": [
              "<Figure size 640x480 with 1 Axes>"
            ]
          },
          "metadata": {},
          "output_type": "display_data"
        }
      ],
      "source": [
        "sns.boxplot(\n",
        "    data=df_age_manner_of_death,\n",
        "    x=\"manner_of_death\",\n",
        "    y=\"age\",\n",
        "    hue=\"gender\",\n",
        "    palette=[\"skyblue\", \"crimson\"]\n",
        ")\n",
        "\n",
        "plt.title(\"Age Distribution by Manner of Death and Gender\", fontsize=20)\n",
        "plt.xlabel(\"Manner of Death\", fontsize=14)\n",
        "plt.ylabel(\"Age\", fontsize=14)\n",
        "plt.legend(title=\"Gender\")\n",
        "plt.show()"
      ]
    },
    {
      "cell_type": "markdown",
      "metadata": {
        "id": "h1pAgkyb3Xb0"
      },
      "source": [
        "# Were People Armed? \n",
        "\n",
        "In what percentage of police killings were people armed? Create chart that show what kind of weapon (if any) the deceased was carrying. How many of the people killed by police were armed with guns versus unarmed? "
      ]
    },
    {
      "cell_type": "code",
      "execution_count": 27,
      "metadata": {
        "id": "0d9B3Pec4TdM"
      },
      "outputs": [
        {
          "data": {
            "image/png": "[encoded data removed]",
            "text/plain": [
              "<Figure size 1200x800 with 1 Axes>"
            ]
          },
          "metadata": {},
          "output_type": "display_data"
        }
      ],
      "source": [
        "# The killed people armed ratio\n",
        "armed_counts = df_fatalities.armed.apply(lambda x: \"armed\" if x != \"unarmed\" else \"unarmed\").value_counts().reset_index(name=\"Count\")\n",
        "\n",
        "plt.figure(figsize=(12,8))\n",
        "\n",
        "plt.pie(\n",
        "    armed_counts.Count,\n",
        "    labels=armed_counts.armed,\n",
        "    autopct=\"%1.1f%%\",\n",
        "    colors=[\"skyblue\", \"salmon\"]\n",
        ")\n",
        "plt.axis(\"equal\")\n",
        "plt.title(\"The Ratio of Armed and Unarmed Killed People\")\n",
        "\n",
        "plt.show()"
      ]
    },
    {
      "cell_type": "code",
      "execution_count": 28,
      "metadata": {
        "id": "vdGTO3pW4Tp5"
      },
      "outputs": [
        {
          "data": {
            "image/png": "[encoded data removed]",
            "text/plain": [
              "<Figure size 1600x600 with 1 Axes>"
            ]
          },
          "metadata": {},
          "output_type": "display_data"
        }
      ],
      "source": [
        "# Carried Weapon \n",
        "weapon = df_fatalities.groupby(\"armed\")[\"id\"].count().reset_index(name=\"Count\")\n",
        "weapon = weapon.sort_values(by=\"Count\", ascending=False)\n",
        "\n",
        "plt.figure(figsize=(16,6))\n",
        "sns.barplot(\n",
        "    data=weapon,\n",
        "    x=\"armed\",\n",
        "    y=\"Count\",\n",
        ")\n",
        "plt.xlabel(\"Weapons\")\n",
        "plt.xticks(rotation=90)\n",
        "plt.ylabel(\"Number of Weapons\")\n",
        "plt.title(\"The Weapon Distribution\")\n",
        "plt.show()"
      ]
    },
    {
      "cell_type": "code",
      "execution_count": 29,
      "metadata": {
        "id": "qnO_rckl4WuJ"
      },
      "outputs": [
        {
          "data": {
            "image/png": "[encoded data removed]",
            "text/plain": [
              "<Figure size 1200x800 with 1 Axes>"
            ]
          },
          "metadata": {},
          "output_type": "display_data"
        }
      ],
      "source": [
        "# The killed people with guns or unarmed\n",
        "guns_or_unarmed = df_fatalities.armed.value_counts()[[\"gun\", \"unarmed\"]].reset_index(name=\"count\")\n",
        "\n",
        "plt.figure(figsize=(12,8))\n",
        "sns.barplot(\n",
        "    data=guns_or_unarmed,\n",
        "    x=\"armed\",\n",
        "    y=\"count\",\n",
        "    hue=\"armed\",\n",
        "    palette=[\"indigo\", \"crimson\"],\n",
        ")\n",
        "\n",
        "plt.title(\"The Killed People with Gun or Unarmed\", fontsize=18)\n",
        "plt.xlabel(\"Gun/Unarmed\", fontsize=14)\n",
        "plt.ylabel(\"Number of Death\", fontsize=14)\n",
        "plt.show()"
      ]
    },
    {
      "cell_type": "markdown",
      "metadata": {
        "id": "IgD2a5-L4W_I"
      },
      "source": [
        "# How Old Were the People Killed?"
      ]
    },
    {
      "cell_type": "markdown",
      "metadata": {
        "id": "BNPrdT-W9lf3"
      },
      "source": [
        "Work out what percentage of people killed were under 25 years old.  "
      ]
    },
    {
      "cell_type": "code",
      "execution_count": 37,
      "metadata": {
        "id": "zSyDgzb542O9"
      },
      "outputs": [
        {
          "name": "stdout",
          "output_type": "stream",
          "text": [
            "The percentage of people were killed under 25 years old is 20.79 %\n"
          ]
        }
      ],
      "source": [
        "age_under_25 = df_fatalities[df_fatalities.age < 25][\"id\"].count()\n",
        "all_age = df_fatalities.shape[0]\n",
        "pec_under_25 = round(age_under_25 / all_age * 100, 2)\n",
        "print(f\"The percentage of people were killed under 25 years old is {pec_under_25} %\")"
      ]
    },
    {
      "cell_type": "markdown",
      "metadata": {
        "id": "5XrAD_ey9qBB"
      },
      "source": [
        "Create a histogram and KDE plot that shows the distribution of ages of the people killed by police. "
      ]
    },
    {
      "cell_type": "code",
      "execution_count": 53,
      "metadata": {
        "id": "U6B1Qp7l42H8"
      },
      "outputs": [
        {
          "data": {
            "image/png": "[encoded data removed]",
            "text/plain": [
              "<Figure size 1200x800 with 1 Axes>"
            ]
          },
          "metadata": {},
          "output_type": "display_data"
        }
      ],
      "source": [
        "age_not_0 = df_fatalities[df_fatalities.age > 0]\n",
        "# ages_distribution = age_not_0.age.value_counts().reset_index(name=\"count\")\n",
        "\n",
        "plt.figure(figsize=(12,8))\n",
        "sns.histplot(\n",
        "    data=age_not_0,\n",
        "    x=\"age\",\n",
        "    kde=True,\n",
        "    color=\"crimson\"\n",
        ")\n",
        "\n",
        "plt.title(\"Ages Distribution of People killed by Police\")\n",
        "plt.xlabel(\"Age\")\n",
        "plt.ylabel(\"Number of Deaths\")\n",
        "\n",
        "plt.show()"
      ]
    },
    {
      "cell_type": "markdown",
      "metadata": {
        "id": "zcqqPDo79rTx"
      },
      "source": [
        "Create a seperate KDE plot for each race. Is there a difference between the distributions? "
      ]
    },
    {
      "cell_type": "code",
      "execution_count": 55,
      "metadata": {
        "id": "ubUnMjok43Zo"
      },
      "outputs": [
        {
          "data": {
            "image/png": "[encoded data removed]",
            "text/plain": [
              "<Figure size 1200x800 with 1 Axes>"
            ]
          },
          "metadata": {},
          "output_type": "display_data"
        }
      ],
      "source": [
        "plt.figure(figsize=(12,8))\n",
        "\n",
        "sns.kdeplot(\n",
        "    data=age_not_0,\n",
        "    x=\"age\",\n",
        "    hue=\"race\",\n",
        "    fill=True\n",
        ")\n",
        "\n",
        "plt.title(\"Age Distribution by Race (KDE)\")\n",
        "plt.xlabel(\"Age\")\n",
        "plt.ylabel(\"Density\")\n",
        "\n",
        "plt.show()"
      ]
    },
    {
      "cell_type": "markdown",
      "metadata": {
        "id": "JkcHvMUt43uE"
      },
      "source": [
        "# Race of People Killed\n",
        "\n",
        "Create a chart that shows the total number of people killed by race. "
      ]
    },
    {
      "cell_type": "code",
      "execution_count": null,
      "metadata": {
        "id": "e8wZvBrt5BEb"
      },
      "outputs": [],
      "source": []
    },
    {
      "cell_type": "code",
      "execution_count": null,
      "metadata": {
        "id": "_aqN0wC45BOl"
      },
      "outputs": [],
      "source": []
    },
    {
      "cell_type": "markdown",
      "metadata": {
        "id": "SJaNm4rC5nWm"
      },
      "source": [
        "# Mental Illness and Police Killings\n",
        "\n",
        "What percentage of people killed by police have been diagnosed with a mental illness?"
      ]
    },
    {
      "cell_type": "code",
      "execution_count": null,
      "metadata": {
        "id": "dbuGvCnN5ytC"
      },
      "outputs": [],
      "source": []
    },
    {
      "cell_type": "code",
      "execution_count": null,
      "metadata": {
        "id": "BsKDVLiY5CP_"
      },
      "outputs": [],
      "source": []
    },
    {
      "cell_type": "markdown",
      "metadata": {
        "id": "R0WSPeKD5Cir"
      },
      "source": [
        "# In Which Cities Do the Most Police Killings Take Place?\n",
        "\n",
        "Create a chart ranking the top 10 cities with the most police killings. Which cities are the most dangerous?  "
      ]
    },
    {
      "cell_type": "code",
      "execution_count": null,
      "metadata": {
        "id": "NYVwo3qy5UV3"
      },
      "outputs": [],
      "source": []
    },
    {
      "cell_type": "code",
      "execution_count": null,
      "metadata": {
        "id": "T_FU4GFk5Upa"
      },
      "outputs": [],
      "source": []
    },
    {
      "cell_type": "markdown",
      "metadata": {
        "id": "AqcOW6ca8JMD"
      },
      "source": [
        "# Rate of Death by Race\n",
        "\n",
        "Find the share of each race in the top 10 cities. Contrast this with the top 10 cities of police killings to work out the rate at which people are killed by race for each city. "
      ]
    },
    {
      "cell_type": "code",
      "execution_count": null,
      "metadata": {
        "id": "FkjAUlKy8I2g"
      },
      "outputs": [],
      "source": []
    },
    {
      "cell_type": "code",
      "execution_count": null,
      "metadata": {
        "id": "dA3Hs9b55V59"
      },
      "outputs": [],
      "source": []
    },
    {
      "cell_type": "markdown",
      "metadata": {
        "id": "1HUJksrI5WFb"
      },
      "source": [
        "# Create a Choropleth Map of Police Killings by US State\n",
        "\n",
        "Which states are the most dangerous? Compare your map with your previous chart. Are these the same states with high degrees of poverty? "
      ]
    },
    {
      "cell_type": "code",
      "execution_count": null,
      "metadata": {
        "id": "u3UuX4Yo5dBA"
      },
      "outputs": [],
      "source": []
    },
    {
      "cell_type": "code",
      "execution_count": null,
      "metadata": {
        "id": "Y6VLPDeN5dKO"
      },
      "outputs": [],
      "source": []
    },
    {
      "cell_type": "markdown",
      "metadata": {
        "id": "37UsmVYF6hA2"
      },
      "source": [
        "# Number of Police Killings Over Time\n",
        "\n",
        "Analyse the Number of Police Killings over Time. Is there a trend in the data? "
      ]
    },
    {
      "cell_type": "code",
      "execution_count": null,
      "metadata": {
        "id": "nITf1IhP6gpI"
      },
      "outputs": [],
      "source": []
    },
    {
      "cell_type": "code",
      "execution_count": null,
      "metadata": {
        "id": "Q_vxjD_A7JRh"
      },
      "outputs": [],
      "source": []
    },
    {
      "cell_type": "code",
      "execution_count": null,
      "metadata": {
        "id": "mOqtie707JU8"
      },
      "outputs": [],
      "source": []
    },
    {
      "cell_type": "code",
      "execution_count": null,
      "metadata": {
        "id": "5fjhL8Lk7JKa"
      },
      "outputs": [],
      "source": []
    },
    {
      "cell_type": "markdown",
      "metadata": {
        "id": "9o6uLFpS61nw"
      },
      "source": [
        "# Epilogue\n",
        "\n",
        "Now that you have analysed the data yourself, read [The Washington Post's analysis here](https://www.washingtonpost.com/graphics/investigations/police-shootings-database/)."
      ]
    },
    {
      "cell_type": "code",
      "execution_count": null,
      "metadata": {
        "id": "8PjgzuNa61I1"
      },
      "outputs": [],
      "source": []
    }
  ],
  "metadata": {
    "colab": {
      "name": "Fatal Force (start).ipynb",
      "provenance": []
    },
    "kernelspec": {
      "display_name": "Python 3",
      "language": "python",
      "name": "python3"
    },
    "language_info": {
      "codemirror_mode": {
        "name": "ipython",
        "version": 3
      },
      "file_extension": ".py",
      "mimetype": "text/x-python",
      "name": "python",
      "nbconvert_exporter": "python",
      "pygments_lexer": "ipython3",
      "version": "3.11.9"
    }
  },
  "nbformat": 4,
  "nbformat_minor": 0
}
